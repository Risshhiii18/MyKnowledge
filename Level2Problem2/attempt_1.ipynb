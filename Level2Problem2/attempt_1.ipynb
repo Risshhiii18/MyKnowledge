{
 "cells": [
  {
   "cell_type": "code",
   "execution_count": 192,
   "metadata": {},
   "outputs": [],
   "source": [
    "import pandas as pd\n",
    "import numpy as np\n",
    "import matplotlib.pyplot as plt\n",
    "import warnings\n",
    "warnings.filterwarnings('ignore')\n",
    "import seaborn as sns\n",
    "from sklearn.linear_model import Lasso, Ridge, LinearRegression, ElasticNet\n",
    "from sklearn.model_selection import train_test_split, GridSearchCV, RandomizedSearchCV, cross_val_score\n",
    "from sklearn.preprocessing import StandardScaler\n",
    "from sklearn.preprocessing import LabelEncoder\n",
    "%matplotlib inline\n",
    "from sklearn import metrics\n",
    "from sklearn.tree import DecisionTreeRegressor\n",
    "from sklearn.ensemble import RandomForestRegressor,AdaBoostRegressor\n",
    "from xgboost import XGBRFRegressor"
   ]
  },
  {
   "cell_type": "code",
   "execution_count": 3,
   "metadata": {},
   "outputs": [],
   "source": [
    "df = pd.read_excel('training_data.xlsx')"
   ]
  },
  {
   "cell_type": "code",
   "execution_count": 221,
   "metadata": {},
   "outputs": [
    {
     "data": {
      "text/html": [
       "<div>\n",
       "<style scoped>\n",
       "    .dataframe tbody tr th:only-of-type {\n",
       "        vertical-align: middle;\n",
       "    }\n",
       "\n",
       "    .dataframe tbody tr th {\n",
       "        vertical-align: top;\n",
       "    }\n",
       "\n",
       "    .dataframe thead th {\n",
       "        text-align: right;\n",
       "    }\n",
       "</style>\n",
       "<table border=\"1\" class=\"dataframe\">\n",
       "  <thead>\n",
       "    <tr style=\"text-align: right;\">\n",
       "      <th></th>\n",
       "      <th>0</th>\n",
       "    </tr>\n",
       "  </thead>\n",
       "  <tbody>\n",
       "    <tr>\n",
       "      <th>ID</th>\n",
       "      <td>0.000000</td>\n",
       "    </tr>\n",
       "    <tr>\n",
       "      <th>Severity</th>\n",
       "      <td>0.000000</td>\n",
       "    </tr>\n",
       "    <tr>\n",
       "      <th>Ventilation</th>\n",
       "      <td>0.000000</td>\n",
       "    </tr>\n",
       "    <tr>\n",
       "      <th>Mean Age</th>\n",
       "      <td>46.947368</td>\n",
       "    </tr>\n",
       "    <tr>\n",
       "      <th>% Male</th>\n",
       "      <td>9.473684</td>\n",
       "    </tr>\n",
       "    <tr>\n",
       "      <th>...</th>\n",
       "      <td>...</td>\n",
       "    </tr>\n",
       "    <tr>\n",
       "      <th>Unnamed: 86</th>\n",
       "      <td>97.263158</td>\n",
       "    </tr>\n",
       "    <tr>\n",
       "      <th>Unnamed: 87</th>\n",
       "      <td>97.684211</td>\n",
       "    </tr>\n",
       "    <tr>\n",
       "      <th>Unnamed: 88</th>\n",
       "      <td>98.315789</td>\n",
       "    </tr>\n",
       "    <tr>\n",
       "      <th>Unnamed: 89</th>\n",
       "      <td>96.842105</td>\n",
       "    </tr>\n",
       "    <tr>\n",
       "      <th>Unnamed: 90</th>\n",
       "      <td>92.421053</td>\n",
       "    </tr>\n",
       "  </tbody>\n",
       "</table>\n",
       "<p>91 rows × 1 columns</p>\n",
       "</div>"
      ],
      "text/plain": [
       "                     0\n",
       "ID            0.000000\n",
       "Severity      0.000000\n",
       "Ventilation   0.000000\n",
       "Mean Age     46.947368\n",
       "% Male        9.473684\n",
       "...                ...\n",
       "Unnamed: 86  97.263158\n",
       "Unnamed: 87  97.684211\n",
       "Unnamed: 88  98.315789\n",
       "Unnamed: 89  96.842105\n",
       "Unnamed: 90  92.421053\n",
       "\n",
       "[91 rows x 1 columns]"
      ]
     },
     "execution_count": 221,
     "metadata": {},
     "output_type": "execute_result"
    }
   ],
   "source": [
    "cols = df.isnull().mean()*100\n",
    "pd.DataFrame(cols)"
   ]
  },
  {
   "cell_type": "code",
   "execution_count": 40,
   "metadata": {},
   "outputs": [],
   "source": [
    "main = []\n",
    "for i in range(len(cols)):\n",
    "    if cols[i] < 40:\n",
    "        main.append(cols.index[i])"
   ]
  },
  {
   "cell_type": "code",
   "execution_count": 41,
   "metadata": {},
   "outputs": [
    {
     "data": {
      "text/plain": [
       "['ID',\n",
       " 'Severity',\n",
       " 'Ventilation',\n",
       " '% Male',\n",
       " 'Hypertension',\n",
       " 'Diabetes',\n",
       " 'Cardiovascular Disease (incl. CAD)',\n",
       " 'Fever (temperature ≥37·3°C)',\n",
       " 'Cough',\n",
       " 'Lymphocyte Count (10^9/L) - Median',\n",
       " 'Mortality']"
      ]
     },
     "execution_count": 41,
     "metadata": {},
     "output_type": "execute_result"
    }
   ],
   "source": [
    "main"
   ]
  },
  {
   "cell_type": "code",
   "execution_count": 43,
   "metadata": {},
   "outputs": [],
   "source": [
    "df_final = df[main]"
   ]
  },
  {
   "cell_type": "code",
   "execution_count": 50,
   "metadata": {},
   "outputs": [
    {
     "data": {
      "text/plain": [
       "ID                                     0.000000\n",
       "Severity                               3.578947\n",
       "Ventilation                           36.631579\n",
       "% Male                                 9.473684\n",
       "Hypertension                          34.947368\n",
       "Diabetes                              31.578947\n",
       "Cardiovascular Disease (incl. CAD)    37.894737\n",
       "Fever (temperature ≥37·3°C)           25.052632\n",
       "Cough                                 28.421053\n",
       "Lymphocyte Count (10^9/L) - Median    39.157895\n",
       "Mortality                              0.000000\n",
       "dtype: float64"
      ]
     },
     "execution_count": 50,
     "metadata": {},
     "output_type": "execute_result"
    }
   ],
   "source": [
    "df_final.isnull().mean()*100"
   ]
  },
  {
   "cell_type": "code",
   "execution_count": 51,
   "metadata": {},
   "outputs": [],
   "source": [
    "X = df_final.drop(['Mortality','ID'], axis = 1)"
   ]
  },
  {
   "cell_type": "code",
   "execution_count": 52,
   "metadata": {},
   "outputs": [],
   "source": [
    "y = df_final['Mortality']"
   ]
  },
  {
   "cell_type": "code",
   "execution_count": 55,
   "metadata": {},
   "outputs": [],
   "source": [
    "X.fillna(X.mean(), inplace=True)"
   ]
  },
  {
   "cell_type": "code",
   "execution_count": 54,
   "metadata": {},
   "outputs": [
    {
     "data": {
      "text/html": [
       "<div>\n",
       "<style scoped>\n",
       "    .dataframe tbody tr th:only-of-type {\n",
       "        vertical-align: middle;\n",
       "    }\n",
       "\n",
       "    .dataframe tbody tr th {\n",
       "        vertical-align: top;\n",
       "    }\n",
       "\n",
       "    .dataframe thead th {\n",
       "        text-align: right;\n",
       "    }\n",
       "</style>\n",
       "<table border=\"1\" class=\"dataframe\">\n",
       "  <thead>\n",
       "    <tr style=\"text-align: right;\">\n",
       "      <th></th>\n",
       "      <th>ID</th>\n",
       "      <th>Severity</th>\n",
       "      <th>Ventilation</th>\n",
       "      <th>% Male</th>\n",
       "      <th>Hypertension</th>\n",
       "      <th>Diabetes</th>\n",
       "      <th>Cardiovascular Disease (incl. CAD)</th>\n",
       "      <th>Fever (temperature ≥37·3°C)</th>\n",
       "      <th>Cough</th>\n",
       "      <th>Lymphocyte Count (10^9/L) - Median</th>\n",
       "      <th>Mortality</th>\n",
       "    </tr>\n",
       "  </thead>\n",
       "  <tbody>\n",
       "    <tr>\n",
       "      <th>0</th>\n",
       "      <td>1</td>\n",
       "      <td>All</td>\n",
       "      <td>Both</td>\n",
       "      <td>0.6230</td>\n",
       "      <td>0.3000</td>\n",
       "      <td>0.1900</td>\n",
       "      <td>0.0800</td>\n",
       "      <td>0.9400</td>\n",
       "      <td>0.7900</td>\n",
       "      <td>1.0</td>\n",
       "      <td>0.28</td>\n",
       "    </tr>\n",
       "    <tr>\n",
       "      <th>1</th>\n",
       "      <td>1</td>\n",
       "      <td>Severe/Critical Only</td>\n",
       "      <td>Both</td>\n",
       "      <td>0.7037</td>\n",
       "      <td>0.4815</td>\n",
       "      <td>0.3148</td>\n",
       "      <td>0.2407</td>\n",
       "      <td>0.9444</td>\n",
       "      <td>0.7222</td>\n",
       "      <td>0.6</td>\n",
       "      <td>1</td>\n",
       "    </tr>\n",
       "    <tr>\n",
       "      <th>2</th>\n",
       "      <td>1</td>\n",
       "      <td>All</td>\n",
       "      <td>Both</td>\n",
       "      <td>0.5912</td>\n",
       "      <td>0.2336</td>\n",
       "      <td>0.1387</td>\n",
       "      <td>0.0146</td>\n",
       "      <td>0.9416</td>\n",
       "      <td>0.8175</td>\n",
       "      <td>1.1</td>\n",
       "      <td>0</td>\n",
       "    </tr>\n",
       "    <tr>\n",
       "      <th>3</th>\n",
       "      <td>2</td>\n",
       "      <td>All</td>\n",
       "      <td>Both</td>\n",
       "      <td>0.6030</td>\n",
       "      <td>NaN</td>\n",
       "      <td>0.1160</td>\n",
       "      <td>NaN</td>\n",
       "      <td>0.9150</td>\n",
       "      <td>NaN</td>\n",
       "      <td>0.9</td>\n",
       "      <td>0.16</td>\n",
       "    </tr>\n",
       "    <tr>\n",
       "      <th>4</th>\n",
       "      <td>2</td>\n",
       "      <td>All</td>\n",
       "      <td>Both</td>\n",
       "      <td>0.6160</td>\n",
       "      <td>NaN</td>\n",
       "      <td>0.1010</td>\n",
       "      <td>NaN</td>\n",
       "      <td>0.8990</td>\n",
       "      <td>NaN</td>\n",
       "      <td>0.8</td>\n",
       "      <td>0.15</td>\n",
       "    </tr>\n",
       "  </tbody>\n",
       "</table>\n",
       "</div>"
      ],
      "text/plain": [
       "   ID              Severity Ventilation  % Male  Hypertension  Diabetes  \\\n",
       "0   1                   All        Both  0.6230        0.3000    0.1900   \n",
       "1   1  Severe/Critical Only        Both  0.7037        0.4815    0.3148   \n",
       "2   1                   All        Both  0.5912        0.2336    0.1387   \n",
       "3   2                   All        Both  0.6030           NaN    0.1160   \n",
       "4   2                   All        Both  0.6160           NaN    0.1010   \n",
       "\n",
       "   Cardiovascular Disease (incl. CAD)  Fever (temperature ≥37·3°C)   Cough  \\\n",
       "0                              0.0800                       0.9400  0.7900   \n",
       "1                              0.2407                       0.9444  0.7222   \n",
       "2                              0.0146                       0.9416  0.8175   \n",
       "3                                 NaN                       0.9150     NaN   \n",
       "4                                 NaN                       0.8990     NaN   \n",
       "\n",
       "   Lymphocyte Count (10^9/L) - Median Mortality  \n",
       "0                                 1.0      0.28  \n",
       "1                                 0.6         1  \n",
       "2                                 1.1         0  \n",
       "3                                 0.9      0.16  \n",
       "4                                 0.8      0.15  "
      ]
     },
     "execution_count": 54,
     "metadata": {},
     "output_type": "execute_result"
    }
   ],
   "source": [
    "df_final.head()"
   ]
  },
  {
   "cell_type": "code",
   "execution_count": 56,
   "metadata": {},
   "outputs": [
    {
     "data": {
      "text/html": [
       "<div>\n",
       "<style scoped>\n",
       "    .dataframe tbody tr th:only-of-type {\n",
       "        vertical-align: middle;\n",
       "    }\n",
       "\n",
       "    .dataframe tbody tr th {\n",
       "        vertical-align: top;\n",
       "    }\n",
       "\n",
       "    .dataframe thead th {\n",
       "        text-align: right;\n",
       "    }\n",
       "</style>\n",
       "<table border=\"1\" class=\"dataframe\">\n",
       "  <thead>\n",
       "    <tr style=\"text-align: right;\">\n",
       "      <th></th>\n",
       "      <th>Severity</th>\n",
       "      <th>Ventilation</th>\n",
       "      <th>% Male</th>\n",
       "      <th>Hypertension</th>\n",
       "      <th>Diabetes</th>\n",
       "      <th>Cardiovascular Disease (incl. CAD)</th>\n",
       "      <th>Fever (temperature ≥37·3°C)</th>\n",
       "      <th>Cough</th>\n",
       "      <th>Lymphocyte Count (10^9/L) - Median</th>\n",
       "    </tr>\n",
       "  </thead>\n",
       "  <tbody>\n",
       "    <tr>\n",
       "      <th>0</th>\n",
       "      <td>All</td>\n",
       "      <td>Both</td>\n",
       "      <td>0.6230</td>\n",
       "      <td>0.300000</td>\n",
       "      <td>0.1900</td>\n",
       "      <td>0.08000</td>\n",
       "      <td>0.9400</td>\n",
       "      <td>0.790000</td>\n",
       "      <td>1.0</td>\n",
       "    </tr>\n",
       "    <tr>\n",
       "      <th>1</th>\n",
       "      <td>Severe/Critical Only</td>\n",
       "      <td>Both</td>\n",
       "      <td>0.7037</td>\n",
       "      <td>0.481500</td>\n",
       "      <td>0.3148</td>\n",
       "      <td>0.24070</td>\n",
       "      <td>0.9444</td>\n",
       "      <td>0.722200</td>\n",
       "      <td>0.6</td>\n",
       "    </tr>\n",
       "    <tr>\n",
       "      <th>2</th>\n",
       "      <td>All</td>\n",
       "      <td>Both</td>\n",
       "      <td>0.5912</td>\n",
       "      <td>0.233600</td>\n",
       "      <td>0.1387</td>\n",
       "      <td>0.01460</td>\n",
       "      <td>0.9416</td>\n",
       "      <td>0.817500</td>\n",
       "      <td>1.1</td>\n",
       "    </tr>\n",
       "    <tr>\n",
       "      <th>3</th>\n",
       "      <td>All</td>\n",
       "      <td>Both</td>\n",
       "      <td>0.6030</td>\n",
       "      <td>0.286662</td>\n",
       "      <td>0.1160</td>\n",
       "      <td>0.14218</td>\n",
       "      <td>0.9150</td>\n",
       "      <td>0.603716</td>\n",
       "      <td>0.9</td>\n",
       "    </tr>\n",
       "    <tr>\n",
       "      <th>4</th>\n",
       "      <td>All</td>\n",
       "      <td>Both</td>\n",
       "      <td>0.6160</td>\n",
       "      <td>0.286662</td>\n",
       "      <td>0.1010</td>\n",
       "      <td>0.14218</td>\n",
       "      <td>0.8990</td>\n",
       "      <td>0.603716</td>\n",
       "      <td>0.8</td>\n",
       "    </tr>\n",
       "  </tbody>\n",
       "</table>\n",
       "</div>"
      ],
      "text/plain": [
       "               Severity Ventilation  % Male  Hypertension  Diabetes  \\\n",
       "0                   All        Both  0.6230      0.300000    0.1900   \n",
       "1  Severe/Critical Only        Both  0.7037      0.481500    0.3148   \n",
       "2                   All        Both  0.5912      0.233600    0.1387   \n",
       "3                   All        Both  0.6030      0.286662    0.1160   \n",
       "4                   All        Both  0.6160      0.286662    0.1010   \n",
       "\n",
       "   Cardiovascular Disease (incl. CAD)  Fever (temperature ≥37·3°C)     Cough  \\\n",
       "0                             0.08000                       0.9400  0.790000   \n",
       "1                             0.24070                       0.9444  0.722200   \n",
       "2                             0.01460                       0.9416  0.817500   \n",
       "3                             0.14218                       0.9150  0.603716   \n",
       "4                             0.14218                       0.8990  0.603716   \n",
       "\n",
       "   Lymphocyte Count (10^9/L) - Median  \n",
       "0                                 1.0  \n",
       "1                                 0.6  \n",
       "2                                 1.1  \n",
       "3                                 0.9  \n",
       "4                                 0.8  "
      ]
     },
     "execution_count": 56,
     "metadata": {},
     "output_type": "execute_result"
    }
   ],
   "source": [
    "X.head()"
   ]
  },
  {
   "cell_type": "code",
   "execution_count": 57,
   "metadata": {},
   "outputs": [
    {
     "name": "stdout",
     "output_type": "stream",
     "text": [
      "<class 'pandas.core.frame.DataFrame'>\n",
      "RangeIndex: 475 entries, 0 to 474\n",
      "Data columns (total 9 columns):\n",
      " #   Column                              Non-Null Count  Dtype  \n",
      "---  ------                              --------------  -----  \n",
      " 0   Severity                            458 non-null    object \n",
      " 1   Ventilation                         301 non-null    object \n",
      " 2   % Male                              475 non-null    float64\n",
      " 3   Hypertension                        475 non-null    float64\n",
      " 4   Diabetes                            475 non-null    float64\n",
      " 5   Cardiovascular Disease (incl. CAD)  475 non-null    float64\n",
      " 6   Fever (temperature ≥37·3°C)         475 non-null    float64\n",
      " 7   Cough                               475 non-null    float64\n",
      " 8   Lymphocyte Count (10^9/L) - Median  475 non-null    float64\n",
      "dtypes: float64(7), object(2)\n",
      "memory usage: 33.5+ KB\n"
     ]
    }
   ],
   "source": [
    "X.info()"
   ]
  },
  {
   "cell_type": "code",
   "execution_count": 71,
   "metadata": {},
   "outputs": [
    {
     "data": {
      "text/plain": [
       "All                     228\n",
       "Severe/Critical Only    144\n",
       "Mild only                91\n",
       "Both                      5\n",
       "Mild                      2\n",
       "Severe                    2\n",
       "Severe/critical only      2\n",
       "Asymptomatic only         1\n",
       "Name: Severity, dtype: int64"
      ]
     },
     "execution_count": 71,
     "metadata": {},
     "output_type": "execute_result"
    }
   ],
   "source": [
    "X['Severity'].value_counts()"
   ]
  },
  {
   "cell_type": "code",
   "execution_count": 77,
   "metadata": {},
   "outputs": [],
   "source": [
    "X['Severity'].fillna('All', inplace=True)"
   ]
  },
  {
   "cell_type": "code",
   "execution_count": 72,
   "metadata": {},
   "outputs": [
    {
     "data": {
      "text/plain": [
       "Both                    371\n",
       "Non-ventilation only     66\n",
       "Ventilation only         19\n",
       "Yes                      12\n",
       "ΝΑ                        4\n",
       "No                        3\n",
       "Name: Ventilation, dtype: int64"
      ]
     },
     "execution_count": 72,
     "metadata": {},
     "output_type": "execute_result"
    }
   ],
   "source": [
    "X['Ventilation'].value_counts()"
   ]
  },
  {
   "cell_type": "code",
   "execution_count": 75,
   "metadata": {},
   "outputs": [],
   "source": [
    "X['Ventilation'].fillna('Both', inplace=True)"
   ]
  },
  {
   "cell_type": "code",
   "execution_count": 161,
   "metadata": {},
   "outputs": [
    {
     "name": "stdout",
     "output_type": "stream",
     "text": [
      "<class 'pandas.core.frame.DataFrame'>\n",
      "RangeIndex: 475 entries, 0 to 474\n",
      "Data columns (total 9 columns):\n",
      " #   Column                              Non-Null Count  Dtype  \n",
      "---  ------                              --------------  -----  \n",
      " 0   Severity                            475 non-null    float64\n",
      " 1   Ventilation                         475 non-null    float64\n",
      " 2   % Male                              475 non-null    float64\n",
      " 3   Hypertension                        475 non-null    float64\n",
      " 4   Diabetes                            475 non-null    float64\n",
      " 5   Cardiovascular Disease (incl. CAD)  475 non-null    float64\n",
      " 6   Fever (temperature ≥37·3°C)         475 non-null    float64\n",
      " 7   Cough                               475 non-null    float64\n",
      " 8   Lymphocyte Count (10^9/L) - Median  475 non-null    float64\n",
      "dtypes: float64(9)\n",
      "memory usage: 33.5 KB\n"
     ]
    }
   ],
   "source": [
    "X.info()"
   ]
  },
  {
   "cell_type": "code",
   "execution_count": 160,
   "metadata": {
    "scrolled": true
   },
   "outputs": [
    {
     "data": {
      "text/html": [
       "<div>\n",
       "<style scoped>\n",
       "    .dataframe tbody tr th:only-of-type {\n",
       "        vertical-align: middle;\n",
       "    }\n",
       "\n",
       "    .dataframe tbody tr th {\n",
       "        vertical-align: top;\n",
       "    }\n",
       "\n",
       "    .dataframe thead th {\n",
       "        text-align: right;\n",
       "    }\n",
       "</style>\n",
       "<table border=\"1\" class=\"dataframe\">\n",
       "  <thead>\n",
       "    <tr style=\"text-align: right;\">\n",
       "      <th></th>\n",
       "      <th>Severity</th>\n",
       "      <th>Ventilation</th>\n",
       "      <th>% Male</th>\n",
       "      <th>Hypertension</th>\n",
       "      <th>Diabetes</th>\n",
       "      <th>Cardiovascular Disease (incl. CAD)</th>\n",
       "      <th>Fever (temperature ≥37·3°C)</th>\n",
       "      <th>Cough</th>\n",
       "      <th>Lymphocyte Count (10^9/L) - Median</th>\n",
       "    </tr>\n",
       "  </thead>\n",
       "  <tbody>\n",
       "    <tr>\n",
       "      <th>count</th>\n",
       "      <td>475.000000</td>\n",
       "      <td>475.000000</td>\n",
       "      <td>475.000000</td>\n",
       "      <td>475.000000</td>\n",
       "      <td>475.000000</td>\n",
       "      <td>475.000000</td>\n",
       "      <td>475.000000</td>\n",
       "      <td>475.000000</td>\n",
       "      <td>475.000000</td>\n",
       "    </tr>\n",
       "    <tr>\n",
       "      <th>mean</th>\n",
       "      <td>2.671579</td>\n",
       "      <td>0.547368</td>\n",
       "      <td>0.547413</td>\n",
       "      <td>0.286662</td>\n",
       "      <td>0.147790</td>\n",
       "      <td>0.142180</td>\n",
       "      <td>0.706176</td>\n",
       "      <td>0.603716</td>\n",
       "      <td>1.587924</td>\n",
       "    </tr>\n",
       "    <tr>\n",
       "      <th>std</th>\n",
       "      <td>2.692687</td>\n",
       "      <td>1.113481</td>\n",
       "      <td>0.250783</td>\n",
       "      <td>0.232322</td>\n",
       "      <td>0.166772</td>\n",
       "      <td>0.189872</td>\n",
       "      <td>0.257966</td>\n",
       "      <td>0.241778</td>\n",
       "      <td>2.588316</td>\n",
       "    </tr>\n",
       "    <tr>\n",
       "      <th>min</th>\n",
       "      <td>0.000000</td>\n",
       "      <td>0.000000</td>\n",
       "      <td>0.000000</td>\n",
       "      <td>0.000000</td>\n",
       "      <td>0.000000</td>\n",
       "      <td>0.000000</td>\n",
       "      <td>0.000000</td>\n",
       "      <td>0.000000</td>\n",
       "      <td>0.060000</td>\n",
       "    </tr>\n",
       "    <tr>\n",
       "      <th>25%</th>\n",
       "      <td>0.000000</td>\n",
       "      <td>0.000000</td>\n",
       "      <td>0.462250</td>\n",
       "      <td>0.143000</td>\n",
       "      <td>0.060500</td>\n",
       "      <td>0.031500</td>\n",
       "      <td>0.672000</td>\n",
       "      <td>0.529000</td>\n",
       "      <td>0.900000</td>\n",
       "    </tr>\n",
       "    <tr>\n",
       "      <th>50%</th>\n",
       "      <td>4.000000</td>\n",
       "      <td>0.000000</td>\n",
       "      <td>0.547413</td>\n",
       "      <td>0.286662</td>\n",
       "      <td>0.147790</td>\n",
       "      <td>0.142180</td>\n",
       "      <td>0.706176</td>\n",
       "      <td>0.603716</td>\n",
       "      <td>1.580000</td>\n",
       "    </tr>\n",
       "    <tr>\n",
       "      <th>75%</th>\n",
       "      <td>6.000000</td>\n",
       "      <td>0.000000</td>\n",
       "      <td>0.659500</td>\n",
       "      <td>0.286662</td>\n",
       "      <td>0.147790</td>\n",
       "      <td>0.142180</td>\n",
       "      <td>0.881000</td>\n",
       "      <td>0.730000</td>\n",
       "      <td>1.587924</td>\n",
       "    </tr>\n",
       "    <tr>\n",
       "      <th>max</th>\n",
       "      <td>7.000000</td>\n",
       "      <td>5.000000</td>\n",
       "      <td>1.000000</td>\n",
       "      <td>1.000000</td>\n",
       "      <td>1.000000</td>\n",
       "      <td>1.000000</td>\n",
       "      <td>1.000000</td>\n",
       "      <td>1.000000</td>\n",
       "      <td>30.600000</td>\n",
       "    </tr>\n",
       "  </tbody>\n",
       "</table>\n",
       "</div>"
      ],
      "text/plain": [
       "         Severity  Ventilation      % Male  Hypertension    Diabetes  \\\n",
       "count  475.000000   475.000000  475.000000    475.000000  475.000000   \n",
       "mean     2.671579     0.547368    0.547413      0.286662    0.147790   \n",
       "std      2.692687     1.113481    0.250783      0.232322    0.166772   \n",
       "min      0.000000     0.000000    0.000000      0.000000    0.000000   \n",
       "25%      0.000000     0.000000    0.462250      0.143000    0.060500   \n",
       "50%      4.000000     0.000000    0.547413      0.286662    0.147790   \n",
       "75%      6.000000     0.000000    0.659500      0.286662    0.147790   \n",
       "max      7.000000     5.000000    1.000000      1.000000    1.000000   \n",
       "\n",
       "       Cardiovascular Disease (incl. CAD)  Fever (temperature ≥37·3°C)  \\\n",
       "count                          475.000000                   475.000000   \n",
       "mean                             0.142180                     0.706176   \n",
       "std                              0.189872                     0.257966   \n",
       "min                              0.000000                     0.000000   \n",
       "25%                              0.031500                     0.672000   \n",
       "50%                              0.142180                     0.706176   \n",
       "75%                              0.142180                     0.881000   \n",
       "max                              1.000000                     1.000000   \n",
       "\n",
       "            Cough  Lymphocyte Count (10^9/L) - Median  \n",
       "count  475.000000                          475.000000  \n",
       "mean     0.603716                            1.587924  \n",
       "std      0.241778                            2.588316  \n",
       "min      0.000000                            0.060000  \n",
       "25%      0.529000                            0.900000  \n",
       "50%      0.603716                            1.580000  \n",
       "75%      0.730000                            1.587924  \n",
       "max      1.000000                           30.600000  "
      ]
     },
     "execution_count": 160,
     "metadata": {},
     "output_type": "execute_result"
    }
   ],
   "source": [
    "X.describe()"
   ]
  },
  {
   "cell_type": "code",
   "execution_count": 79,
   "metadata": {},
   "outputs": [],
   "source": [
    "from sklearn.preprocessing import LabelEncoder\n",
    "X['Severity'] = LabelEncoder().fit_transform(X['Severity'])\n",
    "X['Ventilation'] = LabelEncoder().fit_transform(X['Ventilation'])\n"
   ]
  },
  {
   "cell_type": "code",
   "execution_count": 105,
   "metadata": {},
   "outputs": [],
   "source": [
    "X['Severity'] = np.array(X['Severity'],dtype =float)\n",
    "X['Ventilation'] = np.array(X['Ventilation'],dtype =float)"
   ]
  },
  {
   "cell_type": "code",
   "execution_count": 106,
   "metadata": {},
   "outputs": [
    {
     "data": {
      "text/html": [
       "<div>\n",
       "<style scoped>\n",
       "    .dataframe tbody tr th:only-of-type {\n",
       "        vertical-align: middle;\n",
       "    }\n",
       "\n",
       "    .dataframe tbody tr th {\n",
       "        vertical-align: top;\n",
       "    }\n",
       "\n",
       "    .dataframe thead th {\n",
       "        text-align: right;\n",
       "    }\n",
       "</style>\n",
       "<table border=\"1\" class=\"dataframe\">\n",
       "  <thead>\n",
       "    <tr style=\"text-align: right;\">\n",
       "      <th></th>\n",
       "      <th>Severity</th>\n",
       "      <th>Ventilation</th>\n",
       "      <th>% Male</th>\n",
       "      <th>Hypertension</th>\n",
       "      <th>Diabetes</th>\n",
       "      <th>Cardiovascular Disease (incl. CAD)</th>\n",
       "      <th>Fever (temperature ≥37·3°C)</th>\n",
       "      <th>Cough</th>\n",
       "      <th>Lymphocyte Count (10^9/L) - Median</th>\n",
       "    </tr>\n",
       "  </thead>\n",
       "  <tbody>\n",
       "    <tr>\n",
       "      <th>0</th>\n",
       "      <td>0.0</td>\n",
       "      <td>0.0</td>\n",
       "      <td>0.6230</td>\n",
       "      <td>0.300000</td>\n",
       "      <td>0.1900</td>\n",
       "      <td>0.08000</td>\n",
       "      <td>0.9400</td>\n",
       "      <td>0.790000</td>\n",
       "      <td>1.0</td>\n",
       "    </tr>\n",
       "    <tr>\n",
       "      <th>1</th>\n",
       "      <td>6.0</td>\n",
       "      <td>0.0</td>\n",
       "      <td>0.7037</td>\n",
       "      <td>0.481500</td>\n",
       "      <td>0.3148</td>\n",
       "      <td>0.24070</td>\n",
       "      <td>0.9444</td>\n",
       "      <td>0.722200</td>\n",
       "      <td>0.6</td>\n",
       "    </tr>\n",
       "    <tr>\n",
       "      <th>2</th>\n",
       "      <td>0.0</td>\n",
       "      <td>0.0</td>\n",
       "      <td>0.5912</td>\n",
       "      <td>0.233600</td>\n",
       "      <td>0.1387</td>\n",
       "      <td>0.01460</td>\n",
       "      <td>0.9416</td>\n",
       "      <td>0.817500</td>\n",
       "      <td>1.1</td>\n",
       "    </tr>\n",
       "    <tr>\n",
       "      <th>3</th>\n",
       "      <td>0.0</td>\n",
       "      <td>0.0</td>\n",
       "      <td>0.6030</td>\n",
       "      <td>0.286662</td>\n",
       "      <td>0.1160</td>\n",
       "      <td>0.14218</td>\n",
       "      <td>0.9150</td>\n",
       "      <td>0.603716</td>\n",
       "      <td>0.9</td>\n",
       "    </tr>\n",
       "    <tr>\n",
       "      <th>4</th>\n",
       "      <td>0.0</td>\n",
       "      <td>0.0</td>\n",
       "      <td>0.6160</td>\n",
       "      <td>0.286662</td>\n",
       "      <td>0.1010</td>\n",
       "      <td>0.14218</td>\n",
       "      <td>0.8990</td>\n",
       "      <td>0.603716</td>\n",
       "      <td>0.8</td>\n",
       "    </tr>\n",
       "  </tbody>\n",
       "</table>\n",
       "</div>"
      ],
      "text/plain": [
       "   Severity  Ventilation  % Male  Hypertension  Diabetes  \\\n",
       "0       0.0          0.0  0.6230      0.300000    0.1900   \n",
       "1       6.0          0.0  0.7037      0.481500    0.3148   \n",
       "2       0.0          0.0  0.5912      0.233600    0.1387   \n",
       "3       0.0          0.0  0.6030      0.286662    0.1160   \n",
       "4       0.0          0.0  0.6160      0.286662    0.1010   \n",
       "\n",
       "   Cardiovascular Disease (incl. CAD)  Fever (temperature ≥37·3°C)     Cough  \\\n",
       "0                             0.08000                       0.9400  0.790000   \n",
       "1                             0.24070                       0.9444  0.722200   \n",
       "2                             0.01460                       0.9416  0.817500   \n",
       "3                             0.14218                       0.9150  0.603716   \n",
       "4                             0.14218                       0.8990  0.603716   \n",
       "\n",
       "   Lymphocyte Count (10^9/L) - Median  \n",
       "0                                 1.0  \n",
       "1                                 0.6  \n",
       "2                                 1.1  \n",
       "3                                 0.9  \n",
       "4                                 0.8  "
      ]
     },
     "execution_count": 106,
     "metadata": {},
     "output_type": "execute_result"
    }
   ],
   "source": [
    "X.head()"
   ]
  },
  {
   "cell_type": "code",
   "execution_count": 107,
   "metadata": {},
   "outputs": [
    {
     "data": {
      "text/html": [
       "<div>\n",
       "<style scoped>\n",
       "    .dataframe tbody tr th:only-of-type {\n",
       "        vertical-align: middle;\n",
       "    }\n",
       "\n",
       "    .dataframe tbody tr th {\n",
       "        vertical-align: top;\n",
       "    }\n",
       "\n",
       "    .dataframe thead th {\n",
       "        text-align: right;\n",
       "    }\n",
       "</style>\n",
       "<table border=\"1\" class=\"dataframe\">\n",
       "  <thead>\n",
       "    <tr style=\"text-align: right;\">\n",
       "      <th></th>\n",
       "      <th>Severity</th>\n",
       "      <th>Ventilation</th>\n",
       "      <th>% Male</th>\n",
       "      <th>Hypertension</th>\n",
       "      <th>Diabetes</th>\n",
       "      <th>Cardiovascular Disease (incl. CAD)</th>\n",
       "      <th>Fever (temperature ≥37·3°C)</th>\n",
       "      <th>Cough</th>\n",
       "      <th>Lymphocyte Count (10^9/L) - Median</th>\n",
       "    </tr>\n",
       "  </thead>\n",
       "  <tbody>\n",
       "    <tr>\n",
       "      <th>Severity</th>\n",
       "      <td>1.00</td>\n",
       "      <td>0.26</td>\n",
       "      <td>0.08</td>\n",
       "      <td>0.20</td>\n",
       "      <td>0.14</td>\n",
       "      <td>0.12</td>\n",
       "      <td>0.10</td>\n",
       "      <td>0.06</td>\n",
       "      <td>-0.00</td>\n",
       "    </tr>\n",
       "    <tr>\n",
       "      <th>Ventilation</th>\n",
       "      <td>0.26</td>\n",
       "      <td>1.00</td>\n",
       "      <td>0.05</td>\n",
       "      <td>-0.09</td>\n",
       "      <td>-0.18</td>\n",
       "      <td>-0.03</td>\n",
       "      <td>0.07</td>\n",
       "      <td>0.08</td>\n",
       "      <td>0.05</td>\n",
       "    </tr>\n",
       "    <tr>\n",
       "      <th>% Male</th>\n",
       "      <td>0.08</td>\n",
       "      <td>0.05</td>\n",
       "      <td>1.00</td>\n",
       "      <td>0.12</td>\n",
       "      <td>-0.15</td>\n",
       "      <td>0.07</td>\n",
       "      <td>0.08</td>\n",
       "      <td>0.06</td>\n",
       "      <td>0.16</td>\n",
       "    </tr>\n",
       "    <tr>\n",
       "      <th>Hypertension</th>\n",
       "      <td>0.20</td>\n",
       "      <td>-0.09</td>\n",
       "      <td>0.12</td>\n",
       "      <td>1.00</td>\n",
       "      <td>0.27</td>\n",
       "      <td>0.37</td>\n",
       "      <td>0.09</td>\n",
       "      <td>-0.00</td>\n",
       "      <td>-0.15</td>\n",
       "    </tr>\n",
       "    <tr>\n",
       "      <th>Diabetes</th>\n",
       "      <td>0.14</td>\n",
       "      <td>-0.18</td>\n",
       "      <td>-0.15</td>\n",
       "      <td>0.27</td>\n",
       "      <td>1.00</td>\n",
       "      <td>0.17</td>\n",
       "      <td>-0.00</td>\n",
       "      <td>-0.02</td>\n",
       "      <td>-0.13</td>\n",
       "    </tr>\n",
       "    <tr>\n",
       "      <th>Cardiovascular Disease (incl. CAD)</th>\n",
       "      <td>0.12</td>\n",
       "      <td>-0.03</td>\n",
       "      <td>0.07</td>\n",
       "      <td>0.37</td>\n",
       "      <td>0.17</td>\n",
       "      <td>1.00</td>\n",
       "      <td>0.00</td>\n",
       "      <td>-0.01</td>\n",
       "      <td>-0.08</td>\n",
       "    </tr>\n",
       "    <tr>\n",
       "      <th>Fever (temperature ≥37·3°C)</th>\n",
       "      <td>0.10</td>\n",
       "      <td>0.07</td>\n",
       "      <td>0.08</td>\n",
       "      <td>0.09</td>\n",
       "      <td>-0.00</td>\n",
       "      <td>0.00</td>\n",
       "      <td>1.00</td>\n",
       "      <td>0.48</td>\n",
       "      <td>0.04</td>\n",
       "    </tr>\n",
       "    <tr>\n",
       "      <th>Cough</th>\n",
       "      <td>0.06</td>\n",
       "      <td>0.08</td>\n",
       "      <td>0.06</td>\n",
       "      <td>-0.00</td>\n",
       "      <td>-0.02</td>\n",
       "      <td>-0.01</td>\n",
       "      <td>0.48</td>\n",
       "      <td>1.00</td>\n",
       "      <td>-0.02</td>\n",
       "    </tr>\n",
       "    <tr>\n",
       "      <th>Lymphocyte Count (10^9/L) - Median</th>\n",
       "      <td>-0.00</td>\n",
       "      <td>0.05</td>\n",
       "      <td>0.16</td>\n",
       "      <td>-0.15</td>\n",
       "      <td>-0.13</td>\n",
       "      <td>-0.08</td>\n",
       "      <td>0.04</td>\n",
       "      <td>-0.02</td>\n",
       "      <td>1.00</td>\n",
       "    </tr>\n",
       "  </tbody>\n",
       "</table>\n",
       "</div>"
      ],
      "text/plain": [
       "                                    Severity  Ventilation  % Male  \\\n",
       "Severity                                1.00         0.26    0.08   \n",
       "Ventilation                             0.26         1.00    0.05   \n",
       "% Male                                  0.08         0.05    1.00   \n",
       "Hypertension                            0.20        -0.09    0.12   \n",
       "Diabetes                                0.14        -0.18   -0.15   \n",
       "Cardiovascular Disease (incl. CAD)      0.12        -0.03    0.07   \n",
       "Fever (temperature ≥37·3°C)             0.10         0.07    0.08   \n",
       "Cough                                   0.06         0.08    0.06   \n",
       "Lymphocyte Count (10^9/L) - Median     -0.00         0.05    0.16   \n",
       "\n",
       "                                    Hypertension  Diabetes  \\\n",
       "Severity                                    0.20      0.14   \n",
       "Ventilation                                -0.09     -0.18   \n",
       "% Male                                      0.12     -0.15   \n",
       "Hypertension                                1.00      0.27   \n",
       "Diabetes                                    0.27      1.00   \n",
       "Cardiovascular Disease (incl. CAD)          0.37      0.17   \n",
       "Fever (temperature ≥37·3°C)                 0.09     -0.00   \n",
       "Cough                                      -0.00     -0.02   \n",
       "Lymphocyte Count (10^9/L) - Median         -0.15     -0.13   \n",
       "\n",
       "                                    Cardiovascular Disease (incl. CAD)  \\\n",
       "Severity                                                          0.12   \n",
       "Ventilation                                                      -0.03   \n",
       "% Male                                                            0.07   \n",
       "Hypertension                                                      0.37   \n",
       "Diabetes                                                          0.17   \n",
       "Cardiovascular Disease (incl. CAD)                                1.00   \n",
       "Fever (temperature ≥37·3°C)                                       0.00   \n",
       "Cough                                                            -0.01   \n",
       "Lymphocyte Count (10^9/L) - Median                               -0.08   \n",
       "\n",
       "                                    Fever (temperature ≥37·3°C)  Cough  \\\n",
       "Severity                                                   0.10   0.06   \n",
       "Ventilation                                                0.07   0.08   \n",
       "% Male                                                     0.08   0.06   \n",
       "Hypertension                                               0.09  -0.00   \n",
       "Diabetes                                                  -0.00  -0.02   \n",
       "Cardiovascular Disease (incl. CAD)                         0.00  -0.01   \n",
       "Fever (temperature ≥37·3°C)                                1.00   0.48   \n",
       "Cough                                                      0.48   1.00   \n",
       "Lymphocyte Count (10^9/L) - Median                         0.04  -0.02   \n",
       "\n",
       "                                    Lymphocyte Count (10^9/L) - Median  \n",
       "Severity                                                         -0.00  \n",
       "Ventilation                                                       0.05  \n",
       "% Male                                                            0.16  \n",
       "Hypertension                                                     -0.15  \n",
       "Diabetes                                                         -0.13  \n",
       "Cardiovascular Disease (incl. CAD)                               -0.08  \n",
       "Fever (temperature ≥37·3°C)                                       0.04  \n",
       "Cough                                                            -0.02  \n",
       "Lymphocyte Count (10^9/L) - Median                                1.00  "
      ]
     },
     "execution_count": 107,
     "metadata": {},
     "output_type": "execute_result"
    }
   ],
   "source": [
    "X.corr().round(2)"
   ]
  },
  {
   "cell_type": "code",
   "execution_count": 108,
   "metadata": {},
   "outputs": [
    {
     "data": {
      "text/plain": [
       "<matplotlib.axes._subplots.AxesSubplot at 0x1cf0e7d98c8>"
      ]
     },
     "execution_count": 108,
     "metadata": {},
     "output_type": "execute_result"
    },
    {
     "data": {
      "image/png": "[encoded data removed]",
      "text/plain": [
       "<Figure size 432x288 with 2 Axes>"
      ]
     },
     "metadata": {
      "needs_background": "light"
     },
     "output_type": "display_data"
    }
   ],
   "source": [
    "import seaborn as sns\n",
    "sns.heatmap(X.corr().round(2))"
   ]
  },
  {
   "cell_type": "code",
   "execution_count": 163,
   "metadata": {},
   "outputs": [
    {
     "name": "stderr",
     "output_type": "stream",
     "text": [
      "C:\\Users\\chuda\\anaconda3\\envs\\Rushabh\\lib\\site-packages\\ipykernel_launcher.py:3: SettingWithCopyWarning: \n",
      "A value is trying to be set on a copy of a slice from a DataFrame\n",
      "\n",
      "See the caveats in the documentation: https://pandas.pydata.org/pandas-docs/stable/user_guide/indexing.html#returning-a-view-versus-a-copy\n",
      "  This is separate from the ipykernel package so we can avoid doing imports until\n",
      "C:\\Users\\chuda\\anaconda3\\envs\\Rushabh\\lib\\site-packages\\IPython\\core\\interactiveshell.py:3343: SettingWithCopyWarning: \n",
      "A value is trying to be set on a copy of a slice from a DataFrame\n",
      "\n",
      "See the caveats in the documentation: https://pandas.pydata.org/pandas-docs/stable/user_guide/indexing.html#returning-a-view-versus-a-copy\n",
      "  exec(code_obj, self.user_global_ns, self.user_ns)\n"
     ]
    }
   ],
   "source": [
    "for i in range(len(y)):\n",
    "    if y[i] == 'na':\n",
    "        y[i] = 0"
   ]
  },
  {
   "cell_type": "code",
   "execution_count": 109,
   "metadata": {},
   "outputs": [],
   "source": [
    "import statsmodels.api as sm"
   ]
  },
  {
   "cell_type": "code",
   "execution_count": 165,
   "metadata": {},
   "outputs": [],
   "source": [
    "from sklearn.preprocessing import StandardScaler\n",
    "x_sc = StandardScaler().fit_transform(X)"
   ]
  },
  {
   "cell_type": "code",
   "execution_count": 176,
   "metadata": {},
   "outputs": [
    {
     "data": {
      "text/html": [
       "<table class=\"simpletable\">\n",
       "<caption>OLS Regression Results</caption>\n",
       "<tr>\n",
       "  <th>Dep. Variable:</th>        <td>Mortality</td>    <th>  R-squared (uncentered):</th>      <td>   0.513</td>\n",
       "</tr>\n",
       "<tr>\n",
       "  <th>Model:</th>                   <td>OLS</td>       <th>  Adj. R-squared (uncentered):</th> <td>   0.504</td>\n",
       "</tr>\n",
       "<tr>\n",
       "  <th>Method:</th>             <td>Least Squares</td>  <th>  F-statistic:       </th>          <td>   54.65</td>\n",
       "</tr>\n",
       "<tr>\n",
       "  <th>Date:</th>             <td>Thu, 10 Sep 2020</td> <th>  Prob (F-statistic):</th>          <td>2.10e-67</td>\n",
       "</tr>\n",
       "<tr>\n",
       "  <th>Time:</th>                 <td>20:18:35</td>     <th>  Log-Likelihood:    </th>          <td> -34.624</td>\n",
       "</tr>\n",
       "<tr>\n",
       "  <th>No. Observations:</th>      <td>   475</td>      <th>  AIC:               </th>          <td>   87.25</td>\n",
       "</tr>\n",
       "<tr>\n",
       "  <th>Df Residuals:</th>          <td>   466</td>      <th>  BIC:               </th>          <td>   124.7</td>\n",
       "</tr>\n",
       "<tr>\n",
       "  <th>Df Model:</th>              <td>     9</td>      <th>                     </th>              <td> </td>   \n",
       "</tr>\n",
       "<tr>\n",
       "  <th>Covariance Type:</th>      <td>nonrobust</td>    <th>                     </th>              <td> </td>   \n",
       "</tr>\n",
       "</table>\n",
       "<table class=\"simpletable\">\n",
       "<tr>\n",
       "                   <td></td>                     <th>coef</th>     <th>std err</th>      <th>t</th>      <th>P>|t|</th>  <th>[0.025</th>    <th>0.975]</th>  \n",
       "</tr>\n",
       "<tr>\n",
       "  <th>Severity</th>                           <td>    0.0364</td> <td>    0.005</td> <td>    7.512</td> <td> 0.000</td> <td>    0.027</td> <td>    0.046</td>\n",
       "</tr>\n",
       "<tr>\n",
       "  <th>Ventilation</th>                        <td>   -0.0559</td> <td>    0.012</td> <td>   -4.828</td> <td> 0.000</td> <td>   -0.079</td> <td>   -0.033</td>\n",
       "</tr>\n",
       "<tr>\n",
       "  <th>% Male</th>                             <td>   -0.0634</td> <td>    0.045</td> <td>   -1.413</td> <td> 0.158</td> <td>   -0.152</td> <td>    0.025</td>\n",
       "</tr>\n",
       "<tr>\n",
       "  <th>Hypertension</th>                       <td>    0.3136</td> <td>    0.059</td> <td>    5.296</td> <td> 0.000</td> <td>    0.197</td> <td>    0.430</td>\n",
       "</tr>\n",
       "<tr>\n",
       "  <th>Diabetes</th>                           <td>    0.2427</td> <td>    0.076</td> <td>    3.184</td> <td> 0.002</td> <td>    0.093</td> <td>    0.392</td>\n",
       "</tr>\n",
       "<tr>\n",
       "  <th>Cardiovascular Disease (incl. CAD)</th> <td>    0.3207</td> <td>    0.069</td> <td>    4.677</td> <td> 0.000</td> <td>    0.186</td> <td>    0.455</td>\n",
       "</tr>\n",
       "<tr>\n",
       "  <th>Fever (temperature ≥37·3°C)</th>        <td>    0.0259</td> <td>    0.050</td> <td>    0.518</td> <td> 0.605</td> <td>   -0.072</td> <td>    0.124</td>\n",
       "</tr>\n",
       "<tr>\n",
       "  <th>Cough</th>                              <td>   -0.0360</td> <td>    0.054</td> <td>   -0.669</td> <td> 0.504</td> <td>   -0.142</td> <td>    0.070</td>\n",
       "</tr>\n",
       "<tr>\n",
       "  <th>Lymphocyte Count (10^9/L) - Median</th> <td>   -0.0054</td> <td>    0.005</td> <td>   -1.132</td> <td> 0.258</td> <td>   -0.015</td> <td>    0.004</td>\n",
       "</tr>\n",
       "</table>\n",
       "<table class=\"simpletable\">\n",
       "<tr>\n",
       "  <th>Omnibus:</th>       <td>74.395</td> <th>  Durbin-Watson:     </th> <td>   1.263</td>\n",
       "</tr>\n",
       "<tr>\n",
       "  <th>Prob(Omnibus):</th> <td> 0.000</td> <th>  Jarque-Bera (JB):  </th> <td> 108.463</td>\n",
       "</tr>\n",
       "<tr>\n",
       "  <th>Skew:</th>          <td> 1.050</td> <th>  Prob(JB):          </th> <td>2.80e-24</td>\n",
       "</tr>\n",
       "<tr>\n",
       "  <th>Kurtosis:</th>      <td> 4.036</td> <th>  Cond. No.          </th> <td>    28.0</td>\n",
       "</tr>\n",
       "</table><br/><br/>Warnings:<br/>[1] Standard Errors assume that the covariance matrix of the errors is correctly specified."
      ],
      "text/plain": [
       "<class 'statsmodels.iolib.summary.Summary'>\n",
       "\"\"\"\n",
       "                                 OLS Regression Results                                \n",
       "=======================================================================================\n",
       "Dep. Variable:              Mortality   R-squared (uncentered):                   0.513\n",
       "Model:                            OLS   Adj. R-squared (uncentered):              0.504\n",
       "Method:                 Least Squares   F-statistic:                              54.65\n",
       "Date:                Thu, 10 Sep 2020   Prob (F-statistic):                    2.10e-67\n",
       "Time:                        20:18:35   Log-Likelihood:                         -34.624\n",
       "No. Observations:                 475   AIC:                                      87.25\n",
       "Df Residuals:                     466   BIC:                                      124.7\n",
       "Df Model:                           9                                                  \n",
       "Covariance Type:            nonrobust                                                  \n",
       "======================================================================================================\n",
       "                                         coef    std err          t      P>|t|      [0.025      0.975]\n",
       "------------------------------------------------------------------------------------------------------\n",
       "Severity                               0.0364      0.005      7.512      0.000       0.027       0.046\n",
       "Ventilation                           -0.0559      0.012     -4.828      0.000      -0.079      -0.033\n",
       "% Male                                -0.0634      0.045     -1.413      0.158      -0.152       0.025\n",
       "Hypertension                           0.3136      0.059      5.296      0.000       0.197       0.430\n",
       "Diabetes                               0.2427      0.076      3.184      0.002       0.093       0.392\n",
       "Cardiovascular Disease (incl. CAD)     0.3207      0.069      4.677      0.000       0.186       0.455\n",
       "Fever (temperature ≥37·3°C)            0.0259      0.050      0.518      0.605      -0.072       0.124\n",
       "Cough                                 -0.0360      0.054     -0.669      0.504      -0.142       0.070\n",
       "Lymphocyte Count (10^9/L) - Median    -0.0054      0.005     -1.132      0.258      -0.015       0.004\n",
       "==============================================================================\n",
       "Omnibus:                       74.395   Durbin-Watson:                   1.263\n",
       "Prob(Omnibus):                  0.000   Jarque-Bera (JB):              108.463\n",
       "Skew:                           1.050   Prob(JB):                     2.80e-24\n",
       "Kurtosis:                       4.036   Cond. No.                         28.0\n",
       "==============================================================================\n",
       "\n",
       "Warnings:\n",
       "[1] Standard Errors assume that the covariance matrix of the errors is correctly specified.\n",
       "\"\"\""
      ]
     },
     "execution_count": 176,
     "metadata": {},
     "output_type": "execute_result"
    }
   ],
   "source": [
    "lr = sm.OLS(y.astype(float),X.astype(float))\n",
    "model = lr.fit()\n",
    "model.summary()"
   ]
  },
  {
   "cell_type": "code",
   "execution_count": 222,
   "metadata": {},
   "outputs": [],
   "source": [
    "X2 = X.drop(['Lymphocyte Count (10^9/L) - Median','Cough','Fever (temperature ≥37·3°C)','% Male'], axis = 1)"
   ]
  },
  {
   "cell_type": "code",
   "execution_count": 166,
   "metadata": {},
   "outputs": [],
   "source": [
    "from sklearn.model_selection import train_test_split"
   ]
  },
  {
   "cell_type": "code",
   "execution_count": 223,
   "metadata": {},
   "outputs": [],
   "source": [
    "x_train,x_test,y_train,y_test = train_test_split(X2,y,test_size = 0.25,random_state = 42)"
   ]
  },
  {
   "cell_type": "code",
   "execution_count": 224,
   "metadata": {},
   "outputs": [],
   "source": [
    "from sklearn.linear_model import LinearRegression"
   ]
  },
  {
   "cell_type": "code",
   "execution_count": 225,
   "metadata": {},
   "outputs": [],
   "source": [
    "lrr = LinearRegression().fit(x_train,y_train)"
   ]
  },
  {
   "cell_type": "code",
   "execution_count": 226,
   "metadata": {},
   "outputs": [],
   "source": [
    "lr_pred = lrr.predict(x_test)"
   ]
  },
  {
   "cell_type": "code",
   "execution_count": 227,
   "metadata": {},
   "outputs": [],
   "source": [
    "from sklearn import metrics"
   ]
  },
  {
   "cell_type": "code",
   "execution_count": 228,
   "metadata": {},
   "outputs": [
    {
     "data": {
      "text/plain": [
       "0.2966348282794131"
      ]
     },
     "execution_count": 228,
     "metadata": {},
     "output_type": "execute_result"
    }
   ],
   "source": [
    "np.sqrt(metrics.mean_squared_error(y_test,lr_pred))"
   ]
  },
  {
   "cell_type": "code",
   "execution_count": 229,
   "metadata": {},
   "outputs": [],
   "source": [
    "#########"
   ]
  },
  {
   "cell_type": "code",
   "execution_count": 230,
   "metadata": {},
   "outputs": [],
   "source": [
    "def cross_sc(model):\n",
    "    score = cross_val_score(model, x_train,y_train,cv = 10, scoring='r2')\n",
    "    print('R2_Mean: ', np.mean(score))\n",
    "    print('STD: ', np.std(score))"
   ]
  },
  {
   "cell_type": "code",
   "execution_count": 231,
   "metadata": {},
   "outputs": [],
   "source": [
    "def rand_cv(model,X_train,y_train,param_grid):\n",
    "    rand = RandomizedSearchCV(estimator=model,param_distributions=param_grid,scoring='r2',n_iter=20,verbose=1,cv=5, n_jobs=-1)\n",
    "    rand_result = rand.fit(X_train, y_train)\n",
    "    print('Best Score: ', rand_result.best_score_)\n",
    "    print('Best Params: ', rand_result.best_params_)"
   ]
  },
  {
   "cell_type": "code",
   "execution_count": 232,
   "metadata": {},
   "outputs": [],
   "source": [
    "def grid_cv(model,X_train,y_train,param_grid):\n",
    "    grid = GridSearchCV(estimator=model,param_grid=param_grid,scoring='r2',verbose=1,cv=5, n_jobs=-1)\n",
    "    grid_result = grid.fit(X_train, y_train)\n",
    "    print('Best Score: ', grid_result.best_score_)\n",
    "    print('Best Params: ', grid_result.best_params_)"
   ]
  },
  {
   "cell_type": "code",
   "execution_count": 233,
   "metadata": {},
   "outputs": [],
   "source": [
    "def scr(Model,x_test = x_test):\n",
    "    y2 = Model.predict(x_test)\n",
    "    rmse = np.sqrt(np.mean((y_test-y2)**2))\n",
    "    em = (1-rmse/100000)*100\n",
    "    Model = Model\n",
    "    RMSE = np.sqrt(metrics.mean_squared_error(y_test,y2))\n",
    "    MSE = (metrics.mean_squared_error(y_test,y2))\n",
    "    r2 = metrics.r2_score(y_test,y2)\n",
    "    MAE = metrics.mean_absolute_error(y_test,y2)\n",
    "    Dataset = pd.DataFrame(data = [[Model, RMSE, MSE, r2, MAE,em]], columns = ['Model','RMSE','MSE', 'r2', 'MAE','Evaluation_Metric'])\n",
    "    return Dataset"
   ]
  },
  {
   "cell_type": "code",
   "execution_count": 234,
   "metadata": {},
   "outputs": [
    {
     "data": {
      "text/html": [
       "<div>\n",
       "<style scoped>\n",
       "    .dataframe tbody tr th:only-of-type {\n",
       "        vertical-align: middle;\n",
       "    }\n",
       "\n",
       "    .dataframe tbody tr th {\n",
       "        vertical-align: top;\n",
       "    }\n",
       "\n",
       "    .dataframe thead th {\n",
       "        text-align: right;\n",
       "    }\n",
       "</style>\n",
       "<table border=\"1\" class=\"dataframe\">\n",
       "  <thead>\n",
       "    <tr style=\"text-align: right;\">\n",
       "      <th></th>\n",
       "      <th>Model</th>\n",
       "      <th>RMSE</th>\n",
       "      <th>MSE</th>\n",
       "      <th>r2</th>\n",
       "      <th>MAE</th>\n",
       "      <th>Evaluation_Metric</th>\n",
       "    </tr>\n",
       "  </thead>\n",
       "  <tbody>\n",
       "    <tr>\n",
       "      <th>0</th>\n",
       "      <td>LinearRegression()</td>\n",
       "      <td>0.296635</td>\n",
       "      <td>0.087992</td>\n",
       "      <td>0.167624</td>\n",
       "      <td>0.227621</td>\n",
       "      <td>99.999703</td>\n",
       "    </tr>\n",
       "  </tbody>\n",
       "</table>\n",
       "</div>"
      ],
      "text/plain": [
       "                Model      RMSE       MSE        r2       MAE  \\\n",
       "0  LinearRegression()  0.296635  0.087992  0.167624  0.227621   \n",
       "\n",
       "   Evaluation_Metric  \n",
       "0          99.999703  "
      ]
     },
     "execution_count": 234,
     "metadata": {},
     "output_type": "execute_result"
    }
   ],
   "source": [
    "scr(lrr,x_test)"
   ]
  },
  {
   "cell_type": "code",
   "execution_count": 235,
   "metadata": {},
   "outputs": [
    {
     "data": {
      "text/plain": [
       "array([0.47, 0.23, 0.06, 0.27, 0.14, 0.  , 0.22, 0.11, 0.11, 0.34])"
      ]
     },
     "execution_count": 235,
     "metadata": {},
     "output_type": "execute_result"
    }
   ],
   "source": [
    "lr_pred[:10].round(2)"
   ]
  },
  {
   "cell_type": "code",
   "execution_count": 236,
   "metadata": {},
   "outputs": [
    {
     "data": {
      "text/plain": [
       "375    0.29\n",
       "422     0.2\n",
       "9      0.07\n",
       "73        0\n",
       "354       0\n",
       "33     0.01\n",
       "78        0\n",
       "441    0.56\n",
       "117       1\n",
       "90      0.2\n",
       "Name: Mortality, dtype: object"
      ]
     },
     "execution_count": 236,
     "metadata": {},
     "output_type": "execute_result"
    }
   ],
   "source": [
    "y_test[:10]"
   ]
  },
  {
   "cell_type": "code",
   "execution_count": 237,
   "metadata": {},
   "outputs": [
    {
     "name": "stdout",
     "output_type": "stream",
     "text": [
      "R2_Mean:  -0.027821584507288378\n",
      "STD:  0.03304932702158314\n"
     ]
    }
   ],
   "source": [
    "lasso = Lasso()\n",
    "la = lasso.fit(x_train,y_train)\n",
    "cross_sc(lasso)"
   ]
  },
  {
   "cell_type": "code",
   "execution_count": 238,
   "metadata": {},
   "outputs": [
    {
     "data": {
      "text/html": [
       "<div>\n",
       "<style scoped>\n",
       "    .dataframe tbody tr th:only-of-type {\n",
       "        vertical-align: middle;\n",
       "    }\n",
       "\n",
       "    .dataframe tbody tr th {\n",
       "        vertical-align: top;\n",
       "    }\n",
       "\n",
       "    .dataframe thead th {\n",
       "        text-align: right;\n",
       "    }\n",
       "</style>\n",
       "<table border=\"1\" class=\"dataframe\">\n",
       "  <thead>\n",
       "    <tr style=\"text-align: right;\">\n",
       "      <th></th>\n",
       "      <th>Model</th>\n",
       "      <th>RMSE</th>\n",
       "      <th>MSE</th>\n",
       "      <th>r2</th>\n",
       "      <th>MAE</th>\n",
       "      <th>Evaluation_Metric</th>\n",
       "    </tr>\n",
       "  </thead>\n",
       "  <tbody>\n",
       "    <tr>\n",
       "      <th>0</th>\n",
       "      <td>Lasso()</td>\n",
       "      <td>0.326847</td>\n",
       "      <td>0.106829</td>\n",
       "      <td>-0.010566</td>\n",
       "      <td>0.246493</td>\n",
       "      <td>99.999673</td>\n",
       "    </tr>\n",
       "  </tbody>\n",
       "</table>\n",
       "</div>"
      ],
      "text/plain": [
       "     Model      RMSE       MSE        r2       MAE  Evaluation_Metric\n",
       "0  Lasso()  0.326847  0.106829 -0.010566  0.246493          99.999673"
      ]
     },
     "execution_count": 238,
     "metadata": {},
     "output_type": "execute_result"
    }
   ],
   "source": [
    "scr(lasso)\n"
   ]
  },
  {
   "cell_type": "code",
   "execution_count": 239,
   "metadata": {},
   "outputs": [
    {
     "data": {
      "text/plain": [
       "{'alpha': [0.001, 0.01, 0.1, 1, 10, 100, 1000]}"
      ]
     },
     "execution_count": 239,
     "metadata": {},
     "output_type": "execute_result"
    }
   ],
   "source": [
    "alpha = [0.001, 0.01, 0.1, 1, 10, 100, 1000]\n",
    "param_grid = dict(alpha=alpha)\n",
    "param_grid"
   ]
  },
  {
   "cell_type": "code",
   "execution_count": 240,
   "metadata": {},
   "outputs": [
    {
     "name": "stdout",
     "output_type": "stream",
     "text": [
      "Fitting 5 folds for each of 7 candidates, totalling 35 fits\n"
     ]
    },
    {
     "name": "stderr",
     "output_type": "stream",
     "text": [
      "[Parallel(n_jobs=-1)]: Using backend LokyBackend with 4 concurrent workers.\n"
     ]
    },
    {
     "name": "stdout",
     "output_type": "stream",
     "text": [
      "Best Score:  0.36451486621969165\n",
      "Best Params:  {'alpha': 0.001}\n"
     ]
    },
    {
     "name": "stderr",
     "output_type": "stream",
     "text": [
      "[Parallel(n_jobs=-1)]: Done  35 out of  35 | elapsed:    5.2s finished\n"
     ]
    }
   ],
   "source": [
    "grid_cv(lasso,x_train,y_train,param_grid)"
   ]
  },
  {
   "cell_type": "code",
   "execution_count": 241,
   "metadata": {},
   "outputs": [
    {
     "name": "stderr",
     "output_type": "stream",
     "text": [
      "[Parallel(n_jobs=-1)]: Using backend LokyBackend with 4 concurrent workers.\n"
     ]
    },
    {
     "name": "stdout",
     "output_type": "stream",
     "text": [
      "Fitting 5 folds for each of 7 candidates, totalling 35 fits\n",
      "Best Score:  0.36451486621969165\n",
      "Best Params:  {'alpha': 0.001}\n"
     ]
    },
    {
     "name": "stderr",
     "output_type": "stream",
     "text": [
      "[Parallel(n_jobs=-1)]: Done  35 out of  35 | elapsed:    0.1s finished\n"
     ]
    }
   ],
   "source": [
    "rand_cv(lasso,x_train,y_train, param_grid)"
   ]
  },
  {
   "cell_type": "code",
   "execution_count": 242,
   "metadata": {},
   "outputs": [
    {
     "name": "stdout",
     "output_type": "stream",
     "text": [
      "R2_Mean:  0.34864859251810987\n",
      "STD:  0.10664756347103486\n"
     ]
    }
   ],
   "source": [
    "lasso = Lasso(alpha=0.001)#0.1\n",
    "la = lasso.fit(x_train,y_train)\n",
    "cross_sc(lasso)"
   ]
  },
  {
   "cell_type": "code",
   "execution_count": 243,
   "metadata": {},
   "outputs": [
    {
     "data": {
      "text/html": [
       "<div>\n",
       "<style scoped>\n",
       "    .dataframe tbody tr th:only-of-type {\n",
       "        vertical-align: middle;\n",
       "    }\n",
       "\n",
       "    .dataframe tbody tr th {\n",
       "        vertical-align: top;\n",
       "    }\n",
       "\n",
       "    .dataframe thead th {\n",
       "        text-align: right;\n",
       "    }\n",
       "</style>\n",
       "<table border=\"1\" class=\"dataframe\">\n",
       "  <thead>\n",
       "    <tr style=\"text-align: right;\">\n",
       "      <th></th>\n",
       "      <th>Model</th>\n",
       "      <th>RMSE</th>\n",
       "      <th>MSE</th>\n",
       "      <th>r2</th>\n",
       "      <th>MAE</th>\n",
       "      <th>Evaluation_Metric</th>\n",
       "    </tr>\n",
       "  </thead>\n",
       "  <tbody>\n",
       "    <tr>\n",
       "      <th>0</th>\n",
       "      <td>Lasso(alpha=0.001)</td>\n",
       "      <td>0.295814</td>\n",
       "      <td>0.087506</td>\n",
       "      <td>0.172222</td>\n",
       "      <td>0.226814</td>\n",
       "      <td>99.999704</td>\n",
       "    </tr>\n",
       "  </tbody>\n",
       "</table>\n",
       "</div>"
      ],
      "text/plain": [
       "                Model      RMSE       MSE        r2       MAE  \\\n",
       "0  Lasso(alpha=0.001)  0.295814  0.087506  0.172222  0.226814   \n",
       "\n",
       "   Evaluation_Metric  \n",
       "0          99.999704  "
      ]
     },
     "execution_count": 243,
     "metadata": {},
     "output_type": "execute_result"
    }
   ],
   "source": [
    "y_pred_lasso = lasso.predict(x_test)\n",
    "Lassos = scr(lasso)\n",
    "Lassos"
   ]
  },
  {
   "cell_type": "code",
   "execution_count": 244,
   "metadata": {},
   "outputs": [
    {
     "name": "stdout",
     "output_type": "stream",
     "text": [
      "R2_Mean:  0.3513324340516578\n",
      "STD:  0.10656059663581048\n"
     ]
    }
   ],
   "source": [
    "ridge = Ridge()\n",
    "ridge.fit(x_train,y_train)\n",
    "cross_sc(ridge)"
   ]
  },
  {
   "cell_type": "code",
   "execution_count": 245,
   "metadata": {},
   "outputs": [
    {
     "data": {
      "text/plain": [
       "{'alpha': [0.001, 0.01, 0.1, 1, 10, 100, 1000]}"
      ]
     },
     "execution_count": 245,
     "metadata": {},
     "output_type": "execute_result"
    }
   ],
   "source": [
    "alpha = [0.001, 0.01, 0.1, 1, 10, 100, 1000]\n",
    "param_grid = dict(alpha=alpha)\n",
    "param_grid"
   ]
  },
  {
   "cell_type": "code",
   "execution_count": 246,
   "metadata": {},
   "outputs": [
    {
     "name": "stdout",
     "output_type": "stream",
     "text": [
      "Fitting 5 folds for each of 7 candidates, totalling 35 fits\n"
     ]
    },
    {
     "name": "stderr",
     "output_type": "stream",
     "text": [
      "[Parallel(n_jobs=-1)]: Using backend LokyBackend with 4 concurrent workers.\n"
     ]
    },
    {
     "name": "stdout",
     "output_type": "stream",
     "text": [
      "Best Score:  0.3668929584078406\n",
      "Best Params:  {'alpha': 1}\n"
     ]
    },
    {
     "name": "stderr",
     "output_type": "stream",
     "text": [
      "[Parallel(n_jobs=-1)]: Done  28 out of  35 | elapsed:    0.1s remaining:    0.0s\n",
      "[Parallel(n_jobs=-1)]: Done  35 out of  35 | elapsed:    0.1s finished\n"
     ]
    }
   ],
   "source": [
    "grid_cv(ridge,x_train,y_train,param_grid)"
   ]
  },
  {
   "cell_type": "code",
   "execution_count": 247,
   "metadata": {},
   "outputs": [
    {
     "name": "stdout",
     "output_type": "stream",
     "text": [
      "Fitting 5 folds for each of 7 candidates, totalling 35 fits\n"
     ]
    },
    {
     "name": "stderr",
     "output_type": "stream",
     "text": [
      "[Parallel(n_jobs=-1)]: Using backend LokyBackend with 4 concurrent workers.\n",
      "[Parallel(n_jobs=-1)]: Done  28 out of  35 | elapsed:    0.1s remaining:    0.0s\n"
     ]
    },
    {
     "name": "stdout",
     "output_type": "stream",
     "text": [
      "Best Score:  0.3668929584078406\n",
      "Best Params:  {'alpha': 1}\n"
     ]
    },
    {
     "name": "stderr",
     "output_type": "stream",
     "text": [
      "[Parallel(n_jobs=-1)]: Done  35 out of  35 | elapsed:    0.1s finished\n"
     ]
    }
   ],
   "source": [
    "rand_cv(ridge,x_train,y_train,param_grid)"
   ]
  },
  {
   "cell_type": "code",
   "execution_count": 248,
   "metadata": {},
   "outputs": [
    {
     "name": "stdout",
     "output_type": "stream",
     "text": [
      "R2_Mean:  0.3393608037365352\n",
      "STD:  0.09558326674953756\n"
     ]
    }
   ],
   "source": [
    "ridge = Ridge(alpha=10)#0.001\n",
    "ridge.fit(x_train,y_train)\n",
    "cross_sc(ridge)"
   ]
  },
  {
   "cell_type": "code",
   "execution_count": 249,
   "metadata": {},
   "outputs": [
    {
     "data": {
      "text/html": [
       "<div>\n",
       "<style scoped>\n",
       "    .dataframe tbody tr th:only-of-type {\n",
       "        vertical-align: middle;\n",
       "    }\n",
       "\n",
       "    .dataframe tbody tr th {\n",
       "        vertical-align: top;\n",
       "    }\n",
       "\n",
       "    .dataframe thead th {\n",
       "        text-align: right;\n",
       "    }\n",
       "</style>\n",
       "<table border=\"1\" class=\"dataframe\">\n",
       "  <thead>\n",
       "    <tr style=\"text-align: right;\">\n",
       "      <th></th>\n",
       "      <th>Model</th>\n",
       "      <th>RMSE</th>\n",
       "      <th>MSE</th>\n",
       "      <th>r2</th>\n",
       "      <th>MAE</th>\n",
       "      <th>Evaluation_Metric</th>\n",
       "    </tr>\n",
       "  </thead>\n",
       "  <tbody>\n",
       "    <tr>\n",
       "      <th>0</th>\n",
       "      <td>Ridge(alpha=10)</td>\n",
       "      <td>0.294263</td>\n",
       "      <td>0.086591</td>\n",
       "      <td>0.180883</td>\n",
       "      <td>0.226643</td>\n",
       "      <td>99.999706</td>\n",
       "    </tr>\n",
       "  </tbody>\n",
       "</table>\n",
       "</div>"
      ],
      "text/plain": [
       "             Model      RMSE       MSE        r2       MAE  Evaluation_Metric\n",
       "0  Ridge(alpha=10)  0.294263  0.086591  0.180883  0.226643          99.999706"
      ]
     },
     "execution_count": 249,
     "metadata": {},
     "output_type": "execute_result"
    }
   ],
   "source": [
    "Ridges = scr(ridge)\n",
    "Ridges"
   ]
  },
  {
   "cell_type": "code",
   "execution_count": 250,
   "metadata": {},
   "outputs": [
    {
     "name": "stdout",
     "output_type": "stream",
     "text": [
      "R2_Mean:  -0.027821584507288378\n",
      "STD:  0.03304932702158314\n"
     ]
    }
   ],
   "source": [
    "elastic = ElasticNet()\n",
    "el = elastic.fit(x_train,y_train)\n",
    "cross_sc(el)"
   ]
  },
  {
   "cell_type": "code",
   "execution_count": 251,
   "metadata": {},
   "outputs": [
    {
     "data": {
      "text/plain": [
       "{'alpha': [0.001, 0.01, 0.1, 1, 10, 100, 1000],\n",
       " 'l1_ratio': [0.1, 0.2, 0.3, 0.4, 0.5, 0.6, 0.7, 0.8, 0.9, 1]}"
      ]
     },
     "execution_count": 251,
     "metadata": {},
     "output_type": "execute_result"
    }
   ],
   "source": [
    "alpha = [0.001, 0.01, 0.1, 1, 10, 100, 1000]\n",
    "l1_ratio = [0.1,0.2,0.3,0.4,0.5,0.6,0.7,0.8,0.9,1]\n",
    "param_grid = dict(alpha=alpha, l1_ratio = l1_ratio)\n",
    "param_grid"
   ]
  },
  {
   "cell_type": "code",
   "execution_count": 252,
   "metadata": {},
   "outputs": [
    {
     "name": "stdout",
     "output_type": "stream",
     "text": [
      "Fitting 5 folds for each of 70 candidates, totalling 350 fits\n"
     ]
    },
    {
     "name": "stderr",
     "output_type": "stream",
     "text": [
      "[Parallel(n_jobs=-1)]: Using backend LokyBackend with 4 concurrent workers.\n",
      "[Parallel(n_jobs=-1)]: Done 265 tasks      | elapsed:    1.0s\n"
     ]
    },
    {
     "name": "stdout",
     "output_type": "stream",
     "text": [
      "Best Score:  0.36552645029905695\n",
      "Best Params:  {'alpha': 0.001, 'l1_ratio': 0.1}\n"
     ]
    },
    {
     "name": "stderr",
     "output_type": "stream",
     "text": [
      "[Parallel(n_jobs=-1)]: Done 350 out of 350 | elapsed:    1.3s finished\n"
     ]
    }
   ],
   "source": [
    "grid_cv(elastic,x_train,y_train,param_grid)"
   ]
  },
  {
   "cell_type": "code",
   "execution_count": 253,
   "metadata": {},
   "outputs": [
    {
     "name": "stdout",
     "output_type": "stream",
     "text": [
      "Fitting 5 folds for each of 20 candidates, totalling 100 fits\n"
     ]
    },
    {
     "name": "stderr",
     "output_type": "stream",
     "text": [
      "[Parallel(n_jobs=-1)]: Using backend LokyBackend with 4 concurrent workers.\n"
     ]
    },
    {
     "name": "stdout",
     "output_type": "stream",
     "text": [
      "Best Score:  0.3649113098299804\n",
      "Best Params:  {'l1_ratio': 0.7, 'alpha': 0.001}\n"
     ]
    },
    {
     "name": "stderr",
     "output_type": "stream",
     "text": [
      "[Parallel(n_jobs=-1)]: Done 100 out of 100 | elapsed:    0.4s finished\n"
     ]
    }
   ],
   "source": [
    "rand_cv(elastic,x_train,y_train,param_grid)"
   ]
  },
  {
   "cell_type": "code",
   "execution_count": 254,
   "metadata": {},
   "outputs": [
    {
     "name": "stdout",
     "output_type": "stream",
     "text": [
      "R2_Mean:  0.34946092339426027\n",
      "STD:  0.10746128659812568\n"
     ]
    }
   ],
   "source": [
    "elastic = ElasticNet(alpha=0.001, l1_ratio=0.1) #0.01 1\n",
    "el = elastic.fit(x_train,y_train)\n",
    "cross_sc(el)"
   ]
  },
  {
   "cell_type": "code",
   "execution_count": 255,
   "metadata": {},
   "outputs": [
    {
     "data": {
      "text/html": [
       "<div>\n",
       "<style scoped>\n",
       "    .dataframe tbody tr th:only-of-type {\n",
       "        vertical-align: middle;\n",
       "    }\n",
       "\n",
       "    .dataframe tbody tr th {\n",
       "        vertical-align: top;\n",
       "    }\n",
       "\n",
       "    .dataframe thead th {\n",
       "        text-align: right;\n",
       "    }\n",
       "</style>\n",
       "<table border=\"1\" class=\"dataframe\">\n",
       "  <thead>\n",
       "    <tr style=\"text-align: right;\">\n",
       "      <th></th>\n",
       "      <th>Model</th>\n",
       "      <th>RMSE</th>\n",
       "      <th>MSE</th>\n",
       "      <th>r2</th>\n",
       "      <th>MAE</th>\n",
       "      <th>Evaluation_Metric</th>\n",
       "    </tr>\n",
       "  </thead>\n",
       "  <tbody>\n",
       "    <tr>\n",
       "      <th>0</th>\n",
       "      <td>ElasticNet(alpha=0.001, l1_ratio=0.1)</td>\n",
       "      <td>0.296266</td>\n",
       "      <td>0.087773</td>\n",
       "      <td>0.169695</td>\n",
       "      <td>0.227249</td>\n",
       "      <td>99.999704</td>\n",
       "    </tr>\n",
       "  </tbody>\n",
       "</table>\n",
       "</div>"
      ],
      "text/plain": [
       "                                   Model      RMSE       MSE        r2  \\\n",
       "0  ElasticNet(alpha=0.001, l1_ratio=0.1)  0.296266  0.087773  0.169695   \n",
       "\n",
       "        MAE  Evaluation_Metric  \n",
       "0  0.227249          99.999704  "
      ]
     },
     "execution_count": 255,
     "metadata": {},
     "output_type": "execute_result"
    }
   ],
   "source": [
    "Elastic = scr(elastic)\n",
    "Elastic"
   ]
  },
  {
   "cell_type": "code",
   "execution_count": 256,
   "metadata": {},
   "outputs": [],
   "source": [
    "from sklearn.ensemble import VotingRegressor"
   ]
  },
  {
   "cell_type": "code",
   "execution_count": 257,
   "metadata": {},
   "outputs": [],
   "source": [
    "vot = VotingRegressor(estimators = [('Linear_regression',lrr),('Lasso_regression',lasso),('Ridge_regression',ridge),('Elastic_regression',elastic)]).fit(x_train,y_train)"
   ]
  },
  {
   "cell_type": "code",
   "execution_count": 258,
   "metadata": {},
   "outputs": [
    {
     "name": "stdout",
     "output_type": "stream",
     "text": [
      "R2_Mean:  0.35113596762142957\n",
      "STD:  0.10435238819395798\n"
     ]
    }
   ],
   "source": [
    "cross_sc(vot)"
   ]
  },
  {
   "cell_type": "code",
   "execution_count": 259,
   "metadata": {},
   "outputs": [
    {
     "data": {
      "text/html": [
       "<div>\n",
       "<style scoped>\n",
       "    .dataframe tbody tr th:only-of-type {\n",
       "        vertical-align: middle;\n",
       "    }\n",
       "\n",
       "    .dataframe tbody tr th {\n",
       "        vertical-align: top;\n",
       "    }\n",
       "\n",
       "    .dataframe thead th {\n",
       "        text-align: right;\n",
       "    }\n",
       "</style>\n",
       "<table border=\"1\" class=\"dataframe\">\n",
       "  <thead>\n",
       "    <tr style=\"text-align: right;\">\n",
       "      <th></th>\n",
       "      <th>Model</th>\n",
       "      <th>RMSE</th>\n",
       "      <th>MSE</th>\n",
       "      <th>r2</th>\n",
       "      <th>MAE</th>\n",
       "      <th>Evaluation_Metric</th>\n",
       "    </tr>\n",
       "  </thead>\n",
       "  <tbody>\n",
       "    <tr>\n",
       "      <th>0</th>\n",
       "      <td>VotingRegressor(estimators=[('Linear_regressio...</td>\n",
       "      <td>0.295162</td>\n",
       "      <td>0.087121</td>\n",
       "      <td>0.175869</td>\n",
       "      <td>0.226502</td>\n",
       "      <td>99.999705</td>\n",
       "    </tr>\n",
       "  </tbody>\n",
       "</table>\n",
       "</div>"
      ],
      "text/plain": [
       "                                               Model      RMSE       MSE  \\\n",
       "0  VotingRegressor(estimators=[('Linear_regressio...  0.295162  0.087121   \n",
       "\n",
       "         r2       MAE  Evaluation_Metric  \n",
       "0  0.175869  0.226502          99.999705  "
      ]
     },
     "execution_count": 259,
     "metadata": {},
     "output_type": "execute_result"
    }
   ],
   "source": [
    "vott = scr(vot)\n",
    "vott"
   ]
  },
  {
   "cell_type": "code",
   "execution_count": null,
   "metadata": {},
   "outputs": [],
   "source": []
  },
  {
   "cell_type": "code",
   "execution_count": 297,
   "metadata": {},
   "outputs": [
    {
     "name": "stdout",
     "output_type": "stream",
     "text": [
      "R2_Mean:  0.2684865910330862\n",
      "STD:  0.26772297687660007\n"
     ]
    }
   ],
   "source": [
    "dt = DecisionTreeRegressor(random_state=42).fit(x_train,y_train)\n",
    "cross_sc(dt)"
   ]
  },
  {
   "cell_type": "code",
   "execution_count": 298,
   "metadata": {},
   "outputs": [
    {
     "data": {
      "text/html": [
       "<div>\n",
       "<style scoped>\n",
       "    .dataframe tbody tr th:only-of-type {\n",
       "        vertical-align: middle;\n",
       "    }\n",
       "\n",
       "    .dataframe tbody tr th {\n",
       "        vertical-align: top;\n",
       "    }\n",
       "\n",
       "    .dataframe thead th {\n",
       "        text-align: right;\n",
       "    }\n",
       "</style>\n",
       "<table border=\"1\" class=\"dataframe\">\n",
       "  <thead>\n",
       "    <tr style=\"text-align: right;\">\n",
       "      <th></th>\n",
       "      <th>Model</th>\n",
       "      <th>RMSE</th>\n",
       "      <th>MSE</th>\n",
       "      <th>r2</th>\n",
       "      <th>MAE</th>\n",
       "      <th>Evaluation_Metric</th>\n",
       "    </tr>\n",
       "  </thead>\n",
       "  <tbody>\n",
       "    <tr>\n",
       "      <th>0</th>\n",
       "      <td>DecisionTreeRegressor(random_state=42)</td>\n",
       "      <td>0.310616</td>\n",
       "      <td>0.096482</td>\n",
       "      <td>0.087312</td>\n",
       "      <td>0.194939</td>\n",
       "      <td>99.999689</td>\n",
       "    </tr>\n",
       "  </tbody>\n",
       "</table>\n",
       "</div>"
      ],
      "text/plain": [
       "                                    Model      RMSE       MSE        r2  \\\n",
       "0  DecisionTreeRegressor(random_state=42)  0.310616  0.096482  0.087312   \n",
       "\n",
       "        MAE  Evaluation_Metric  \n",
       "0  0.194939          99.999689  "
      ]
     },
     "execution_count": 298,
     "metadata": {},
     "output_type": "execute_result"
    }
   ],
   "source": [
    "scr(dt)"
   ]
  },
  {
   "cell_type": "code",
   "execution_count": 261,
   "metadata": {},
   "outputs": [],
   "source": [
    "param_grid = {'criterion':['mse','friedman_mse','mae'],\n",
    "              'splitter':['best','random'],\n",
    "              'max_depth':[1,2,3,4,5],\n",
    "              'min_samples_split':[1,2,3,4,5],\n",
    "              'min_samples_leaf':[1,2,3,4,5],\n",
    "              'max_features':[1,2,3,4,5,6,7,8,9,10],\n",
    "              'max_leaf_nodes':[1,2,3,4,5,6,7,8,9,10]}"
   ]
  },
  {
   "cell_type": "code",
   "execution_count": 262,
   "metadata": {},
   "outputs": [
    {
     "name": "stdout",
     "output_type": "stream",
     "text": [
      "Fitting 5 folds for each of 20 candidates, totalling 100 fits\n"
     ]
    },
    {
     "name": "stderr",
     "output_type": "stream",
     "text": [
      "[Parallel(n_jobs=-1)]: Using backend LokyBackend with 4 concurrent workers.\n"
     ]
    },
    {
     "name": "stdout",
     "output_type": "stream",
     "text": [
      "Best Score:  0.27200348729544566\n",
      "Best Params:  {'splitter': 'random', 'min_samples_split': 3, 'min_samples_leaf': 4, 'max_leaf_nodes': 6, 'max_features': 3, 'max_depth': 3, 'criterion': 'mse'}\n"
     ]
    },
    {
     "name": "stderr",
     "output_type": "stream",
     "text": [
      "[Parallel(n_jobs=-1)]: Done 100 out of 100 | elapsed:    0.6s finished\n"
     ]
    }
   ],
   "source": [
    "rand_cv(dt,x_train,y_train,param_grid)"
   ]
  },
  {
   "cell_type": "code",
   "execution_count": 265,
   "metadata": {},
   "outputs": [
    {
     "data": {
      "text/plain": [
       "DecisionTreeRegressor(max_depth=3, max_features=3, max_leaf_nodes=6,\n",
       "                      min_samples_leaf=4, min_samples_split=3, random_state=42,\n",
       "                      splitter='random')"
      ]
     },
     "execution_count": 265,
     "metadata": {},
     "output_type": "execute_result"
    }
   ],
   "source": [
    "dt = DecisionTreeRegressor(splitter='random', min_samples_split=3, min_samples_leaf= 4,\n",
    "                           max_leaf_nodes= 6, max_features= 3, max_depth= 3, criterion= 'mse', random_state = 42)\n",
    "dt.fit(x_train,y_train)"
   ]
  },
  {
   "cell_type": "code",
   "execution_count": 266,
   "metadata": {},
   "outputs": [
    {
     "name": "stdout",
     "output_type": "stream",
     "text": [
      "R2_Mean:  0.13894613015684934\n",
      "STD:  0.2306825820078805\n"
     ]
    }
   ],
   "source": [
    "cross_sc(dt)"
   ]
  },
  {
   "cell_type": "code",
   "execution_count": 267,
   "metadata": {},
   "outputs": [
    {
     "data": {
      "text/html": [
       "<div>\n",
       "<style scoped>\n",
       "    .dataframe tbody tr th:only-of-type {\n",
       "        vertical-align: middle;\n",
       "    }\n",
       "\n",
       "    .dataframe tbody tr th {\n",
       "        vertical-align: top;\n",
       "    }\n",
       "\n",
       "    .dataframe thead th {\n",
       "        text-align: right;\n",
       "    }\n",
       "</style>\n",
       "<table border=\"1\" class=\"dataframe\">\n",
       "  <thead>\n",
       "    <tr style=\"text-align: right;\">\n",
       "      <th></th>\n",
       "      <th>Model</th>\n",
       "      <th>RMSE</th>\n",
       "      <th>MSE</th>\n",
       "      <th>r2</th>\n",
       "      <th>MAE</th>\n",
       "      <th>Evaluation_Metric</th>\n",
       "    </tr>\n",
       "  </thead>\n",
       "  <tbody>\n",
       "    <tr>\n",
       "      <th>0</th>\n",
       "      <td>DecisionTreeRegressor(max_depth=3, max_feature...</td>\n",
       "      <td>0.28844</td>\n",
       "      <td>0.083198</td>\n",
       "      <td>0.21298</td>\n",
       "      <td>0.211138</td>\n",
       "      <td>99.999712</td>\n",
       "    </tr>\n",
       "  </tbody>\n",
       "</table>\n",
       "</div>"
      ],
      "text/plain": [
       "                                               Model     RMSE       MSE  \\\n",
       "0  DecisionTreeRegressor(max_depth=3, max_feature...  0.28844  0.083198   \n",
       "\n",
       "        r2       MAE  Evaluation_Metric  \n",
       "0  0.21298  0.211138          99.999712  "
      ]
     },
     "execution_count": 267,
     "metadata": {},
     "output_type": "execute_result"
    }
   ],
   "source": [
    "dt_data = scr(dt)\n",
    "dt_data"
   ]
  },
  {
   "cell_type": "code",
   "execution_count": 268,
   "metadata": {},
   "outputs": [],
   "source": [
    "from sklearn.ensemble import RandomForestRegressor"
   ]
  },
  {
   "cell_type": "code",
   "execution_count": 294,
   "metadata": {},
   "outputs": [
    {
     "data": {
      "text/plain": [
       "RandomForestRegressor()"
      ]
     },
     "execution_count": 294,
     "metadata": {},
     "output_type": "execute_result"
    }
   ],
   "source": [
    "forest = RandomForestRegressor()\n",
    "forest.fit(x_train,y_train)"
   ]
  },
  {
   "cell_type": "code",
   "execution_count": 295,
   "metadata": {},
   "outputs": [
    {
     "name": "stdout",
     "output_type": "stream",
     "text": [
      "R2_Mean:  0.49580007350209465\n",
      "STD:  0.11916598487361263\n"
     ]
    }
   ],
   "source": [
    "cross_sc(forest)"
   ]
  },
  {
   "cell_type": "code",
   "execution_count": 296,
   "metadata": {},
   "outputs": [
    {
     "data": {
      "text/html": [
       "<div>\n",
       "<style scoped>\n",
       "    .dataframe tbody tr th:only-of-type {\n",
       "        vertical-align: middle;\n",
       "    }\n",
       "\n",
       "    .dataframe tbody tr th {\n",
       "        vertical-align: top;\n",
       "    }\n",
       "\n",
       "    .dataframe thead th {\n",
       "        text-align: right;\n",
       "    }\n",
       "</style>\n",
       "<table border=\"1\" class=\"dataframe\">\n",
       "  <thead>\n",
       "    <tr style=\"text-align: right;\">\n",
       "      <th></th>\n",
       "      <th>Model</th>\n",
       "      <th>RMSE</th>\n",
       "      <th>MSE</th>\n",
       "      <th>r2</th>\n",
       "      <th>MAE</th>\n",
       "      <th>Evaluation_Metric</th>\n",
       "    </tr>\n",
       "  </thead>\n",
       "  <tbody>\n",
       "    <tr>\n",
       "      <th>0</th>\n",
       "      <td>(DecisionTreeRegressor(max_features='auto', ra...</td>\n",
       "      <td>0.267568</td>\n",
       "      <td>0.071592</td>\n",
       "      <td>0.32276</td>\n",
       "      <td>0.179456</td>\n",
       "      <td>99.999732</td>\n",
       "    </tr>\n",
       "  </tbody>\n",
       "</table>\n",
       "</div>"
      ],
      "text/plain": [
       "                                               Model      RMSE       MSE  \\\n",
       "0  (DecisionTreeRegressor(max_features='auto', ra...  0.267568  0.071592   \n",
       "\n",
       "        r2       MAE  Evaluation_Metric  \n",
       "0  0.32276  0.179456          99.999732  "
      ]
     },
     "execution_count": 296,
     "metadata": {},
     "output_type": "execute_result"
    }
   ],
   "source": [
    "scr(forest)"
   ]
  },
  {
   "cell_type": "code",
   "execution_count": 271,
   "metadata": {},
   "outputs": [],
   "source": [
    "param_grid = {'criterion':['mse','mae'],\n",
    "              'max_depth':[1,2,3,4,5],\n",
    "              'min_samples_split':[1,2,3,4,5],\n",
    "              'min_samples_leaf':[1,2,3,4,5],\n",
    "              'max_features':[1,2,3,4,5,6,7,8,9,10],\n",
    "              'max_leaf_nodes':[1,2,3,4,5,6,7,8,9,10]}"
   ]
  },
  {
   "cell_type": "code",
   "execution_count": 272,
   "metadata": {},
   "outputs": [
    {
     "name": "stdout",
     "output_type": "stream",
     "text": [
      "Fitting 5 folds for each of 20 candidates, totalling 100 fits\n"
     ]
    },
    {
     "name": "stderr",
     "output_type": "stream",
     "text": [
      "[Parallel(n_jobs=-1)]: Using backend LokyBackend with 4 concurrent workers.\n",
      "[Parallel(n_jobs=-1)]: Done  42 tasks      | elapsed:    2.7s\n",
      "[Parallel(n_jobs=-1)]: Done 100 out of 100 | elapsed:    5.9s finished\n"
     ]
    },
    {
     "name": "stdout",
     "output_type": "stream",
     "text": [
      "Best Score:  0.3588129305023838\n",
      "Best Params:  {'min_samples_split': 4, 'min_samples_leaf': 5, 'max_leaf_nodes': 3, 'max_features': 3, 'max_depth': 4, 'criterion': 'mse'}\n"
     ]
    }
   ],
   "source": [
    "rand_cv(forest,x_train,y_train,param_grid)"
   ]
  },
  {
   "cell_type": "code",
   "execution_count": 273,
   "metadata": {},
   "outputs": [],
   "source": [
    "forest = RandomForestRegressor(min_samples_split=4,min_samples_leaf=5,max_leaf_nodes=3, max_features=3, \n",
    "                              max_depth=4, criterion='mse')"
   ]
  },
  {
   "cell_type": "code",
   "execution_count": 274,
   "metadata": {},
   "outputs": [
    {
     "name": "stdout",
     "output_type": "stream",
     "text": [
      "R2_Mean:  0.3499637362056787\n",
      "STD:  0.09806339522932975\n"
     ]
    }
   ],
   "source": [
    "cross_sc(forest)"
   ]
  },
  {
   "cell_type": "code",
   "execution_count": 277,
   "metadata": {},
   "outputs": [
    {
     "data": {
      "text/html": [
       "<div>\n",
       "<style scoped>\n",
       "    .dataframe tbody tr th:only-of-type {\n",
       "        vertical-align: middle;\n",
       "    }\n",
       "\n",
       "    .dataframe tbody tr th {\n",
       "        vertical-align: top;\n",
       "    }\n",
       "\n",
       "    .dataframe thead th {\n",
       "        text-align: right;\n",
       "    }\n",
       "</style>\n",
       "<table border=\"1\" class=\"dataframe\">\n",
       "  <thead>\n",
       "    <tr style=\"text-align: right;\">\n",
       "      <th></th>\n",
       "      <th>Model</th>\n",
       "      <th>RMSE</th>\n",
       "      <th>MSE</th>\n",
       "      <th>r2</th>\n",
       "      <th>MAE</th>\n",
       "      <th>Evaluation_Metric</th>\n",
       "    </tr>\n",
       "  </thead>\n",
       "  <tbody>\n",
       "    <tr>\n",
       "      <th>0</th>\n",
       "      <td>(DecisionTreeRegressor(max_features='auto', ra...</td>\n",
       "      <td>0.268188</td>\n",
       "      <td>0.071925</td>\n",
       "      <td>0.319614</td>\n",
       "      <td>0.180814</td>\n",
       "      <td>99.999732</td>\n",
       "    </tr>\n",
       "  </tbody>\n",
       "</table>\n",
       "</div>"
      ],
      "text/plain": [
       "                                               Model      RMSE       MSE  \\\n",
       "0  (DecisionTreeRegressor(max_features='auto', ra...  0.268188  0.071925   \n",
       "\n",
       "         r2       MAE  Evaluation_Metric  \n",
       "0  0.319614  0.180814          99.999732  "
      ]
     },
     "execution_count": 277,
     "metadata": {},
     "output_type": "execute_result"
    }
   ],
   "source": [
    "forest.fit(x_train,y_train)\n",
    "rf_data = scr(forest)\n",
    "rf_data"
   ]
  },
  {
   "cell_type": "code",
   "execution_count": 292,
   "metadata": {},
   "outputs": [
    {
     "name": "stdout",
     "output_type": "stream",
     "text": [
      "R2_Mean:  0.3657148823146223\n",
      "STD:  0.174555006466688\n"
     ]
    }
   ],
   "source": [
    "ada = AdaBoostRegressor().fit(x_train,y_train)\n",
    "cross_sc(ada)\n"
   ]
  },
  {
   "cell_type": "code",
   "execution_count": 293,
   "metadata": {},
   "outputs": [
    {
     "data": {
      "text/html": [
       "<div>\n",
       "<style scoped>\n",
       "    .dataframe tbody tr th:only-of-type {\n",
       "        vertical-align: middle;\n",
       "    }\n",
       "\n",
       "    .dataframe tbody tr th {\n",
       "        vertical-align: top;\n",
       "    }\n",
       "\n",
       "    .dataframe thead th {\n",
       "        text-align: right;\n",
       "    }\n",
       "</style>\n",
       "<table border=\"1\" class=\"dataframe\">\n",
       "  <thead>\n",
       "    <tr style=\"text-align: right;\">\n",
       "      <th></th>\n",
       "      <th>Model</th>\n",
       "      <th>RMSE</th>\n",
       "      <th>MSE</th>\n",
       "      <th>r2</th>\n",
       "      <th>MAE</th>\n",
       "      <th>Evaluation_Metric</th>\n",
       "    </tr>\n",
       "  </thead>\n",
       "  <tbody>\n",
       "    <tr>\n",
       "      <th>0</th>\n",
       "      <td>(DecisionTreeRegressor(max_depth=3, random_sta...</td>\n",
       "      <td>0.274298</td>\n",
       "      <td>0.075239</td>\n",
       "      <td>0.288261</td>\n",
       "      <td>0.198733</td>\n",
       "      <td>99.999726</td>\n",
       "    </tr>\n",
       "  </tbody>\n",
       "</table>\n",
       "</div>"
      ],
      "text/plain": [
       "                                               Model      RMSE       MSE  \\\n",
       "0  (DecisionTreeRegressor(max_depth=3, random_sta...  0.274298  0.075239   \n",
       "\n",
       "         r2       MAE  Evaluation_Metric  \n",
       "0  0.288261  0.198733          99.999726  "
      ]
     },
     "execution_count": 293,
     "metadata": {},
     "output_type": "execute_result"
    }
   ],
   "source": [
    "scr(ada)"
   ]
  },
  {
   "cell_type": "code",
   "execution_count": 279,
   "metadata": {},
   "outputs": [],
   "source": [
    "param_grid = {'n_estimators':[100,200,300,400,500,600,700],\n",
    "              'learning_rate':[1,0.1,0.01,0.001,0.0001],\n",
    "              'loss':['linear']}"
   ]
  },
  {
   "cell_type": "code",
   "execution_count": 280,
   "metadata": {},
   "outputs": [
    {
     "name": "stdout",
     "output_type": "stream",
     "text": [
      "Fitting 5 folds for each of 20 candidates, totalling 100 fits\n"
     ]
    },
    {
     "name": "stderr",
     "output_type": "stream",
     "text": [
      "[Parallel(n_jobs=-1)]: Using backend LokyBackend with 4 concurrent workers.\n",
      "[Parallel(n_jobs=-1)]: Done  42 tasks      | elapsed:   11.6s\n",
      "[Parallel(n_jobs=-1)]: Done 100 out of 100 | elapsed:   21.7s finished\n"
     ]
    },
    {
     "name": "stdout",
     "output_type": "stream",
     "text": [
      "Best Score:  0.4564365070001336\n",
      "Best Params:  {'n_estimators': 200, 'loss': 'linear', 'learning_rate': 0.01}\n"
     ]
    }
   ],
   "source": [
    "rand_cv(ada,x_train,y_train,param_grid)"
   ]
  },
  {
   "cell_type": "code",
   "execution_count": 281,
   "metadata": {},
   "outputs": [
    {
     "data": {
      "text/plain": [
       "AdaBoostRegressor(learning_rate=0.01, n_estimators=200)"
      ]
     },
     "execution_count": 281,
     "metadata": {},
     "output_type": "execute_result"
    }
   ],
   "source": [
    "ada = AdaBoostRegressor(n_estimators=200,loss='linear', learning_rate=0.01)\n",
    "ada.fit(x_train,y_train)"
   ]
  },
  {
   "cell_type": "code",
   "execution_count": 282,
   "metadata": {},
   "outputs": [
    {
     "name": "stdout",
     "output_type": "stream",
     "text": [
      "R2_Mean:  0.4301239928943879\n",
      "STD:  0.09999654769067998\n"
     ]
    }
   ],
   "source": [
    "cross_sc(ada)"
   ]
  },
  {
   "cell_type": "code",
   "execution_count": 283,
   "metadata": {},
   "outputs": [
    {
     "data": {
      "text/html": [
       "<div>\n",
       "<style scoped>\n",
       "    .dataframe tbody tr th:only-of-type {\n",
       "        vertical-align: middle;\n",
       "    }\n",
       "\n",
       "    .dataframe tbody tr th {\n",
       "        vertical-align: top;\n",
       "    }\n",
       "\n",
       "    .dataframe thead th {\n",
       "        text-align: right;\n",
       "    }\n",
       "</style>\n",
       "<table border=\"1\" class=\"dataframe\">\n",
       "  <thead>\n",
       "    <tr style=\"text-align: right;\">\n",
       "      <th></th>\n",
       "      <th>Model</th>\n",
       "      <th>RMSE</th>\n",
       "      <th>MSE</th>\n",
       "      <th>r2</th>\n",
       "      <th>MAE</th>\n",
       "      <th>Evaluation_Metric</th>\n",
       "    </tr>\n",
       "  </thead>\n",
       "  <tbody>\n",
       "    <tr>\n",
       "      <th>0</th>\n",
       "      <td>(DecisionTreeRegressor(max_depth=3, random_sta...</td>\n",
       "      <td>0.278833</td>\n",
       "      <td>0.077748</td>\n",
       "      <td>0.264532</td>\n",
       "      <td>0.206984</td>\n",
       "      <td>99.999721</td>\n",
       "    </tr>\n",
       "  </tbody>\n",
       "</table>\n",
       "</div>"
      ],
      "text/plain": [
       "                                               Model      RMSE       MSE  \\\n",
       "0  (DecisionTreeRegressor(max_depth=3, random_sta...  0.278833  0.077748   \n",
       "\n",
       "         r2       MAE  Evaluation_Metric  \n",
       "0  0.264532  0.206984          99.999721  "
      ]
     },
     "execution_count": 283,
     "metadata": {},
     "output_type": "execute_result"
    }
   ],
   "source": [
    "ad_data = scr(ada)\n",
    "ad_data"
   ]
  },
  {
   "cell_type": "code",
   "execution_count": 284,
   "metadata": {},
   "outputs": [],
   "source": [
    "from xgboost import XGBRegressor"
   ]
  },
  {
   "cell_type": "code",
   "execution_count": 285,
   "metadata": {},
   "outputs": [
    {
     "name": "stdout",
     "output_type": "stream",
     "text": [
      "[02:04:07] WARNING: src/objective/regression_obj.cu:152: reg:linear is now deprecated in favor of reg:squarederror.\n",
      "[02:04:12] WARNING: src/objective/regression_obj.cu:152: reg:linear is now deprecated in favor of reg:squarederror.\n",
      "[02:04:17] WARNING: src/objective/regression_obj.cu:152: reg:linear is now deprecated in favor of reg:squarederror.\n",
      "[02:04:21] WARNING: src/objective/regression_obj.cu:152: reg:linear is now deprecated in favor of reg:squarederror.\n",
      "[02:04:26] WARNING: src/objective/regression_obj.cu:152: reg:linear is now deprecated in favor of reg:squarederror.\n",
      "[02:04:30] WARNING: src/objective/regression_obj.cu:152: reg:linear is now deprecated in favor of reg:squarederror.\n",
      "[02:04:34] WARNING: src/objective/regression_obj.cu:152: reg:linear is now deprecated in favor of reg:squarederror.\n",
      "[02:04:39] WARNING: src/objective/regression_obj.cu:152: reg:linear is now deprecated in favor of reg:squarederror.\n",
      "[02:04:43] WARNING: src/objective/regression_obj.cu:152: reg:linear is now deprecated in favor of reg:squarederror.\n",
      "[02:04:47] WARNING: src/objective/regression_obj.cu:152: reg:linear is now deprecated in favor of reg:squarederror.\n",
      "R2_Mean:  0.4116779544723446\n",
      "STD:  0.14844550741427828\n"
     ]
    }
   ],
   "source": [
    "xgb = XGBRegressor(colsample_bytree=0.4,\n",
    "                 gamma=0,                 \n",
    "                 learning_rate=0.09,\n",
    "                 max_depth=3,\n",
    "                 min_child_weight=1.5,\n",
    "                 n_estimators=10000,                                                                    \n",
    "                 reg_alpha=0.75,\n",
    "                 reg_lambda=0.45,\n",
    "                 subsample=0.6,\n",
    "                 seed=42)\n",
    "cross_sc(xgb)"
   ]
  },
  {
   "cell_type": "code",
   "execution_count": 286,
   "metadata": {},
   "outputs": [
    {
     "name": "stdout",
     "output_type": "stream",
     "text": [
      "[02:04:59] WARNING: src/objective/regression_obj.cu:152: reg:linear is now deprecated in favor of reg:squarederror.\n"
     ]
    },
    {
     "data": {
      "text/plain": [
       "XGBRegressor(colsample_bytree=0.4, learning_rate=0.09, min_child_weight=1.5,\n",
       "             n_estimators=10000, reg_alpha=0.75, reg_lambda=0.45, seed=42,\n",
       "             subsample=0.6)"
      ]
     },
     "execution_count": 286,
     "metadata": {},
     "output_type": "execute_result"
    }
   ],
   "source": [
    "xgb.fit(x_train,y_train)"
   ]
  },
  {
   "cell_type": "code",
   "execution_count": 287,
   "metadata": {},
   "outputs": [
    {
     "data": {
      "text/html": [
       "<div>\n",
       "<style scoped>\n",
       "    .dataframe tbody tr th:only-of-type {\n",
       "        vertical-align: middle;\n",
       "    }\n",
       "\n",
       "    .dataframe tbody tr th {\n",
       "        vertical-align: top;\n",
       "    }\n",
       "\n",
       "    .dataframe thead th {\n",
       "        text-align: right;\n",
       "    }\n",
       "</style>\n",
       "<table border=\"1\" class=\"dataframe\">\n",
       "  <thead>\n",
       "    <tr style=\"text-align: right;\">\n",
       "      <th></th>\n",
       "      <th>Model</th>\n",
       "      <th>RMSE</th>\n",
       "      <th>MSE</th>\n",
       "      <th>r2</th>\n",
       "      <th>MAE</th>\n",
       "      <th>Evaluation_Metric</th>\n",
       "    </tr>\n",
       "  </thead>\n",
       "  <tbody>\n",
       "    <tr>\n",
       "      <th>0</th>\n",
       "      <td>XGBRegressor(colsample_bytree=0.4, learning_ra...</td>\n",
       "      <td>0.261232</td>\n",
       "      <td>0.068242</td>\n",
       "      <td>0.354452</td>\n",
       "      <td>0.183226</td>\n",
       "      <td>99.999739</td>\n",
       "    </tr>\n",
       "  </tbody>\n",
       "</table>\n",
       "</div>"
      ],
      "text/plain": [
       "                                               Model      RMSE       MSE  \\\n",
       "0  XGBRegressor(colsample_bytree=0.4, learning_ra...  0.261232  0.068242   \n",
       "\n",
       "         r2       MAE  Evaluation_Metric  \n",
       "0  0.354452  0.183226          99.999739  "
      ]
     },
     "execution_count": 287,
     "metadata": {},
     "output_type": "execute_result"
    }
   ],
   "source": [
    "xgb_data = scr(xgb)\n",
    "xgb_data"
   ]
  },
  {
   "cell_type": "code",
   "execution_count": 288,
   "metadata": {},
   "outputs": [
    {
     "name": "stdout",
     "output_type": "stream",
     "text": [
      "[02:06:05] WARNING: src/objective/regression_obj.cu:152: reg:linear is now deprecated in favor of reg:squarederror.\n"
     ]
    }
   ],
   "source": [
    "xgb_n = XGBRegressor().fit(x_train,y_train)"
   ]
  },
  {
   "cell_type": "code",
   "execution_count": 289,
   "metadata": {},
   "outputs": [
    {
     "data": {
      "text/html": [
       "<div>\n",
       "<style scoped>\n",
       "    .dataframe tbody tr th:only-of-type {\n",
       "        vertical-align: middle;\n",
       "    }\n",
       "\n",
       "    .dataframe tbody tr th {\n",
       "        vertical-align: top;\n",
       "    }\n",
       "\n",
       "    .dataframe thead th {\n",
       "        text-align: right;\n",
       "    }\n",
       "</style>\n",
       "<table border=\"1\" class=\"dataframe\">\n",
       "  <thead>\n",
       "    <tr style=\"text-align: right;\">\n",
       "      <th></th>\n",
       "      <th>Model</th>\n",
       "      <th>RMSE</th>\n",
       "      <th>MSE</th>\n",
       "      <th>r2</th>\n",
       "      <th>MAE</th>\n",
       "      <th>Evaluation_Metric</th>\n",
       "    </tr>\n",
       "  </thead>\n",
       "  <tbody>\n",
       "    <tr>\n",
       "      <th>0</th>\n",
       "      <td>XGBRegressor()</td>\n",
       "      <td>0.25626</td>\n",
       "      <td>0.065669</td>\n",
       "      <td>0.378792</td>\n",
       "      <td>0.178874</td>\n",
       "      <td>99.999744</td>\n",
       "    </tr>\n",
       "  </tbody>\n",
       "</table>\n",
       "</div>"
      ],
      "text/plain": [
       "            Model     RMSE       MSE        r2       MAE  Evaluation_Metric\n",
       "0  XGBRegressor()  0.25626  0.065669  0.378792  0.178874          99.999744"
      ]
     },
     "execution_count": 289,
     "metadata": {},
     "output_type": "execute_result"
    }
   ],
   "source": [
    "xgbn_data = scr(xgb_n)\n",
    "xgbn_data"
   ]
  },
  {
   "cell_type": "code",
   "execution_count": 299,
   "metadata": {},
   "outputs": [
    {
     "name": "stdout",
     "output_type": "stream",
     "text": [
      "[02:12:35] WARNING: src/objective/regression_obj.cu:152: reg:linear is now deprecated in favor of reg:squarederror.\n"
     ]
    }
   ],
   "source": [
    "new_vot = VotingRegressor(estimators = [('Adaboost',ada),('Random_Forest',forest),('XGBoost',xgb_n)]).fit(x_train,y_train)"
   ]
  },
  {
   "cell_type": "code",
   "execution_count": 300,
   "metadata": {},
   "outputs": [
    {
     "data": {
      "text/html": [
       "<div>\n",
       "<style scoped>\n",
       "    .dataframe tbody tr th:only-of-type {\n",
       "        vertical-align: middle;\n",
       "    }\n",
       "\n",
       "    .dataframe tbody tr th {\n",
       "        vertical-align: top;\n",
       "    }\n",
       "\n",
       "    .dataframe thead th {\n",
       "        text-align: right;\n",
       "    }\n",
       "</style>\n",
       "<table border=\"1\" class=\"dataframe\">\n",
       "  <thead>\n",
       "    <tr style=\"text-align: right;\">\n",
       "      <th></th>\n",
       "      <th>Model</th>\n",
       "      <th>RMSE</th>\n",
       "      <th>MSE</th>\n",
       "      <th>r2</th>\n",
       "      <th>MAE</th>\n",
       "      <th>Evaluation_Metric</th>\n",
       "    </tr>\n",
       "  </thead>\n",
       "  <tbody>\n",
       "    <tr>\n",
       "      <th>0</th>\n",
       "      <td>VotingRegressor(estimators=[('Adaboost', AdaBo...</td>\n",
       "      <td>0.258761</td>\n",
       "      <td>0.066957</td>\n",
       "      <td>0.366606</td>\n",
       "      <td>0.190997</td>\n",
       "      <td>99.999741</td>\n",
       "    </tr>\n",
       "  </tbody>\n",
       "</table>\n",
       "</div>"
      ],
      "text/plain": [
       "                                               Model      RMSE       MSE  \\\n",
       "0  VotingRegressor(estimators=[('Adaboost', AdaBo...  0.258761  0.066957   \n",
       "\n",
       "         r2       MAE  Evaluation_Metric  \n",
       "0  0.366606  0.190997          99.999741  "
      ]
     },
     "execution_count": 300,
     "metadata": {},
     "output_type": "execute_result"
    }
   ],
   "source": [
    "scr(new_vot)"
   ]
  },
  {
   "cell_type": "code",
   "execution_count": 304,
   "metadata": {},
   "outputs": [
    {
     "data": {
      "text/plain": [
       "array([0.79, 0.11, 0.11, 0.06, 0.11, 0.  , 0.2 , 0.09, 0.09, 0.23],\n",
       "      dtype=float32)"
      ]
     },
     "execution_count": 304,
     "metadata": {},
     "output_type": "execute_result"
    }
   ],
   "source": [
    "xgb_n.predict(x_test)[:10].round(2)"
   ]
  },
  {
   "cell_type": "code",
   "execution_count": 303,
   "metadata": {},
   "outputs": [
    {
     "data": {
      "text/plain": [
       "375    0.29\n",
       "422     0.2\n",
       "9      0.07\n",
       "73        0\n",
       "354       0\n",
       "33     0.01\n",
       "78        0\n",
       "441    0.56\n",
       "117       1\n",
       "90      0.2\n",
       "Name: Mortality, dtype: object"
      ]
     },
     "execution_count": 303,
     "metadata": {},
     "output_type": "execute_result"
    }
   ],
   "source": [
    "y_test[:10]"
   ]
  },
  {
   "cell_type": "code",
   "execution_count": null,
   "metadata": {},
   "outputs": [],
   "source": []
  }
 ],
 "metadata": {
  "kernelspec": {
   "display_name": "Python 3",
   "language": "python",
   "name": "python3"
  },
  "language_info": {
   "codemirror_mode": {
    "name": "ipython",
    "version": 3
   },
   "file_extension": ".py",
   "mimetype": "text/x-python",
   "name": "python",
   "nbconvert_exporter": "python",
   "pygments_lexer": "ipython3",
   "version": "3.7.7"
  }
 },
 "nbformat": 4,
 "nbformat_minor": 4
}
