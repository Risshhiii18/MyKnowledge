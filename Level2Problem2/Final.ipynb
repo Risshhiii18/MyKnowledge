{
 "cells": [
  {
   "cell_type": "code",
   "execution_count": 1,
   "metadata": {},
   "outputs": [],
   "source": [
    "import pandas as pd\n",
    "import numpy as np\n",
    "import matplotlib.pyplot as plt\n",
    "import warnings\n",
    "warnings.filterwarnings('ignore')\n",
    "import seaborn as sns\n",
    "from sklearn.model_selection import train_test_split, GridSearchCV, RandomizedSearchCV, cross_val_score\n",
    "from sklearn.preprocessing import StandardScaler\n",
    "from sklearn.preprocessing import LabelEncoder\n",
    "%matplotlib inline\n",
    "from sklearn import metrics\n",
    "from xgboost import XGBRegressor"
   ]
  },
  {
   "cell_type": "code",
   "execution_count": 3,
   "metadata": {},
   "outputs": [],
   "source": [
    "df = pd.read_excel('training_data.xlsx')\n",
    "dft = pd.read_excel('test_data.xlsx')\n"
   ]
  },
  {
   "cell_type": "code",
   "execution_count": 4,
   "metadata": {},
   "outputs": [],
   "source": [
    "cols = df.isnull().mean()*100\n",
    "main = []\n",
    "for i in range(len(cols)):\n",
    "    if cols[i] < 40:\n",
    "        main.append(cols.index[i])"
   ]
  },
  {
   "cell_type": "code",
   "execution_count": 5,
   "metadata": {},
   "outputs": [],
   "source": [
    "df_final = df[main]"
   ]
  },
  {
   "cell_type": "code",
   "execution_count": 6,
   "metadata": {},
   "outputs": [],
   "source": [
    "X = df_final.drop(['Mortality','ID'], axis = 1)"
   ]
  },
  {
   "cell_type": "code",
   "execution_count": 7,
   "metadata": {},
   "outputs": [],
   "source": [
    "y = df_final['Mortality']"
   ]
  },
  {
   "cell_type": "code",
   "execution_count": 8,
   "metadata": {},
   "outputs": [],
   "source": [
    "X.fillna(X.mean(), inplace=True)\n",
    "X['Severity'].fillna('All', inplace=True)\n",
    "X['Ventilation'].fillna('Both', inplace=True)"
   ]
  },
  {
   "cell_type": "code",
   "execution_count": 9,
   "metadata": {},
   "outputs": [
    {
     "data": {
      "text/html": [
       "<div>\n",
       "<style scoped>\n",
       "    .dataframe tbody tr th:only-of-type {\n",
       "        vertical-align: middle;\n",
       "    }\n",
       "\n",
       "    .dataframe tbody tr th {\n",
       "        vertical-align: top;\n",
       "    }\n",
       "\n",
       "    .dataframe thead th {\n",
       "        text-align: right;\n",
       "    }\n",
       "</style>\n",
       "<table border=\"1\" class=\"dataframe\">\n",
       "  <thead>\n",
       "    <tr style=\"text-align: right;\">\n",
       "      <th></th>\n",
       "      <th>Severity</th>\n",
       "      <th>Ventilation</th>\n",
       "      <th>% Male</th>\n",
       "      <th>Hypertension</th>\n",
       "      <th>Diabetes</th>\n",
       "      <th>Cardiovascular Disease (incl. CAD)</th>\n",
       "      <th>Fever (temperature ≥37·3°C)</th>\n",
       "      <th>Cough</th>\n",
       "      <th>Lymphocyte Count (10^9/L) - Median</th>\n",
       "    </tr>\n",
       "  </thead>\n",
       "  <tbody>\n",
       "    <tr>\n",
       "      <th>0</th>\n",
       "      <td>All</td>\n",
       "      <td>Both</td>\n",
       "      <td>0.6230</td>\n",
       "      <td>0.300000</td>\n",
       "      <td>0.1900</td>\n",
       "      <td>0.08000</td>\n",
       "      <td>0.9400</td>\n",
       "      <td>0.790000</td>\n",
       "      <td>1.0</td>\n",
       "    </tr>\n",
       "    <tr>\n",
       "      <th>1</th>\n",
       "      <td>Severe/Critical Only</td>\n",
       "      <td>Both</td>\n",
       "      <td>0.7037</td>\n",
       "      <td>0.481500</td>\n",
       "      <td>0.3148</td>\n",
       "      <td>0.24070</td>\n",
       "      <td>0.9444</td>\n",
       "      <td>0.722200</td>\n",
       "      <td>0.6</td>\n",
       "    </tr>\n",
       "    <tr>\n",
       "      <th>2</th>\n",
       "      <td>All</td>\n",
       "      <td>Both</td>\n",
       "      <td>0.5912</td>\n",
       "      <td>0.233600</td>\n",
       "      <td>0.1387</td>\n",
       "      <td>0.01460</td>\n",
       "      <td>0.9416</td>\n",
       "      <td>0.817500</td>\n",
       "      <td>1.1</td>\n",
       "    </tr>\n",
       "    <tr>\n",
       "      <th>3</th>\n",
       "      <td>All</td>\n",
       "      <td>Both</td>\n",
       "      <td>0.6030</td>\n",
       "      <td>0.286662</td>\n",
       "      <td>0.1160</td>\n",
       "      <td>0.14218</td>\n",
       "      <td>0.9150</td>\n",
       "      <td>0.603716</td>\n",
       "      <td>0.9</td>\n",
       "    </tr>\n",
       "    <tr>\n",
       "      <th>4</th>\n",
       "      <td>All</td>\n",
       "      <td>Both</td>\n",
       "      <td>0.6160</td>\n",
       "      <td>0.286662</td>\n",
       "      <td>0.1010</td>\n",
       "      <td>0.14218</td>\n",
       "      <td>0.8990</td>\n",
       "      <td>0.603716</td>\n",
       "      <td>0.8</td>\n",
       "    </tr>\n",
       "  </tbody>\n",
       "</table>\n",
       "</div>"
      ],
      "text/plain": [
       "               Severity Ventilation  % Male  Hypertension  Diabetes  \\\n",
       "0                   All        Both  0.6230      0.300000    0.1900   \n",
       "1  Severe/Critical Only        Both  0.7037      0.481500    0.3148   \n",
       "2                   All        Both  0.5912      0.233600    0.1387   \n",
       "3                   All        Both  0.6030      0.286662    0.1160   \n",
       "4                   All        Both  0.6160      0.286662    0.1010   \n",
       "\n",
       "   Cardiovascular Disease (incl. CAD)  Fever (temperature ≥37·3°C)     Cough  \\\n",
       "0                             0.08000                       0.9400  0.790000   \n",
       "1                             0.24070                       0.9444  0.722200   \n",
       "2                             0.01460                       0.9416  0.817500   \n",
       "3                             0.14218                       0.9150  0.603716   \n",
       "4                             0.14218                       0.8990  0.603716   \n",
       "\n",
       "   Lymphocyte Count (10^9/L) - Median  \n",
       "0                                 1.0  \n",
       "1                                 0.6  \n",
       "2                                 1.1  \n",
       "3                                 0.9  \n",
       "4                                 0.8  "
      ]
     },
     "execution_count": 9,
     "metadata": {},
     "output_type": "execute_result"
    }
   ],
   "source": [
    "X.head()"
   ]
  },
  {
   "cell_type": "code",
   "execution_count": 11,
   "metadata": {},
   "outputs": [
    {
     "data": {
      "text/plain": [
       "All                     211\n",
       "Severe/Critical Only    144\n",
       "Mild only                91\n",
       "Both                      5\n",
       "Mild                      2\n",
       "Severe                    2\n",
       "Severe/critical only      2\n",
       "Asymptomatic only         1\n",
       "Name: Severity, dtype: int64"
      ]
     },
     "execution_count": 11,
     "metadata": {},
     "output_type": "execute_result"
    }
   ],
   "source": [
    "df['Severity'].value_counts()"
   ]
  },
  {
   "cell_type": "code",
   "execution_count": 14,
   "metadata": {},
   "outputs": [],
   "source": [
    "df['Severity'] = df['Severity'].replace('Severe/Critical Only','Severe')\n",
    "df['Severity'] = df['Severity'].replace('Severe/critical only','Severe')\n",
    "df['Severity'] = df['Severity'].replace('Mild only','Mild')"
   ]
  },
  {
   "cell_type": "code",
   "execution_count": 15,
   "metadata": {},
   "outputs": [
    {
     "data": {
      "text/plain": [
       "All                  211\n",
       "Severe               148\n",
       "Mild                  93\n",
       "Both                   5\n",
       "Asymptomatic only      1\n",
       "Name: Severity, dtype: int64"
      ]
     },
     "execution_count": 15,
     "metadata": {},
     "output_type": "execute_result"
    }
   ],
   "source": [
    "df['Severity'].value_counts()"
   ]
  },
  {
   "cell_type": "code",
   "execution_count": 16,
   "metadata": {},
   "outputs": [],
   "source": [
    "test_df = dft[X.columns]"
   ]
  },
  {
   "cell_type": "code",
   "execution_count": 21,
   "metadata": {},
   "outputs": [],
   "source": [
    "test_df.fillna(test_df.mean(), inplace=True)\n",
    "test_df['Severity'].fillna('All', inplace=True)\n",
    "test_df['Ventilation'].fillna('Both', inplace=True)"
   ]
  },
  {
   "cell_type": "code",
   "execution_count": 22,
   "metadata": {},
   "outputs": [
    {
     "data": {
      "text/plain": [
       "All                     36\n",
       "Severe/Critical Only     9\n",
       "Both                     4\n",
       "Mild only                2\n",
       "Severe/critical only     1\n",
       "Mild Only                1\n",
       "Name: Severity, dtype: int64"
      ]
     },
     "execution_count": 22,
     "metadata": {},
     "output_type": "execute_result"
    }
   ],
   "source": [
    "test_df['Severity'].value_counts()"
   ]
  },
  {
   "cell_type": "code",
   "execution_count": 24,
   "metadata": {},
   "outputs": [],
   "source": [
    "test_df['Severity'] = test_df['Severity'].replace('Severe/Critical Only','Severe')\n",
    "test_df['Severity'] = test_df['Severity'].replace('Severe/critical only','Severe')\n",
    "test_df['Severity'] = test_df['Severity'].replace('Mild Only','Mild')\n",
    "test_df['Severity'] = test_df['Severity'].replace('Mild only','Mild')"
   ]
  },
  {
   "cell_type": "code",
   "execution_count": 26,
   "metadata": {},
   "outputs": [
    {
     "data": {
      "text/plain": [
       "All       36\n",
       "Severe    10\n",
       "Both       4\n",
       "Mild       3\n",
       "Name: Severity, dtype: int64"
      ]
     },
     "execution_count": 26,
     "metadata": {},
     "output_type": "execute_result"
    }
   ],
   "source": [
    "test_df['Severity'].value_counts()"
   ]
  },
  {
   "cell_type": "code",
   "execution_count": 28,
   "metadata": {},
   "outputs": [],
   "source": [
    "from sklearn.preprocessing import LabelEncoder\n",
    "lr = LabelEncoder()\n",
    "X['Ventilation'] = lr.fit_transform(X['Ventilation'])\n",
    "test_df['Ventilation'] = lr.transform(test_df['Ventilation'])\n",
    "\n"
   ]
  },
  {
   "cell_type": "code",
   "execution_count": 29,
   "metadata": {},
   "outputs": [],
   "source": [
    "X['Severity'] = lr.fit_transform(X['Severity'])\n",
    "test_df['Severity'] = lr.transform(test_df['Severity'])"
   ]
  },
  {
   "cell_type": "code",
   "execution_count": 32,
   "metadata": {},
   "outputs": [],
   "source": [
    "for i in range(len(y)):\n",
    "    if y[i] == 'na':\n",
    "        y[i] = 0\n",
    "for i in range(len(y)):\n",
    "    if y[i] =='0%%':\n",
    "        y[i] = 0"
   ]
  },
  {
   "cell_type": "code",
   "execution_count": 33,
   "metadata": {},
   "outputs": [
    {
     "name": "stdout",
     "output_type": "stream",
     "text": [
      "[01:02:04] WARNING: src/objective/regression_obj.cu:152: reg:linear is now deprecated in favor of reg:squarederror.\n"
     ]
    }
   ],
   "source": [
    "xgb_n = XGBRegressor().fit(X,y)"
   ]
  },
  {
   "cell_type": "code",
   "execution_count": 37,
   "metadata": {},
   "outputs": [],
   "source": [
    "xgb_pred = xgb_n.predict(test_df).round(2)"
   ]
  },
  {
   "cell_type": "code",
   "execution_count": 38,
   "metadata": {},
   "outputs": [
    {
     "data": {
      "text/plain": [
       "array([ 0.05,  0.12,  0.14,  0.04,  0.06,  0.13,  0.17,  0.27,  0.05,\n",
       "        0.06,  0.06,  0.06,  0.07,  0.4 ,  0.11,  0.23,  0.17,  0.25,\n",
       "       -0.08,  0.02,  0.25,  0.18,  0.1 ,  0.33,  0.13,  0.07,  0.07,\n",
       "        0.07,  0.07,  0.05, -0.03,  0.18,  0.18,  0.1 ,  0.18,  0.11,\n",
       "        0.05,  0.11,  0.47,  0.15,  0.23,  0.14,  0.14,  0.14,  0.03,\n",
       "        0.09,  0.01,  0.14,  0.24,  0.36,  0.08,  0.23,  0.48],\n",
       "      dtype=float32)"
      ]
     },
     "execution_count": 38,
     "metadata": {},
     "output_type": "execute_result"
    }
   ],
   "source": [
    "xgb_pred"
   ]
  },
  {
   "cell_type": "code",
   "execution_count": 39,
   "metadata": {},
   "outputs": [],
   "source": [
    "predictions = pd.Series(xgb_pred)"
   ]
  },
  {
   "cell_type": "code",
   "execution_count": 41,
   "metadata": {},
   "outputs": [],
   "source": [
    "predictions.to_csv('Attempt1(XGB).csv')"
   ]
  },
  {
   "cell_type": "code",
   "execution_count": 42,
   "metadata": {},
   "outputs": [],
   "source": [
    "from sklearn.linear_model import LinearRegression"
   ]
  },
  {
   "cell_type": "code",
   "execution_count": 44,
   "metadata": {},
   "outputs": [
    {
     "data": {
      "text/plain": [
       "array([ 0.16,  0.28,  0.21,  0.15,  0.07,  0.03,  0.04,  0.14,  0.17,\n",
       "        0.17,  0.18,  0.06,  0.13,  0.47,  0.16,  0.34,  0.26,  0.5 ,\n",
       "        0.18, -0.  ,  0.5 ,  0.23,  0.21,  0.28,  0.15,  0.03,  0.03,\n",
       "        0.03,  0.11,  0.08,  0.25,  0.15,  0.15,  0.13,  0.15,  0.12,\n",
       "        0.12,  0.12,  0.4 ,  0.16,  0.18,  0.15,  0.15,  0.15,  0.19,\n",
       "        0.3 ,  0.12,  0.15,  0.27,  0.32,  0.22,  0.26,  0.27])"
      ]
     },
     "execution_count": 44,
     "metadata": {},
     "output_type": "execute_result"
    }
   ],
   "source": [
    "lr = LinearRegression().fit(X,y)\n",
    "lr_pred = lr.predict(test_df).round(2)\n",
    "lr_pred"
   ]
  },
  {
   "cell_type": "code",
   "execution_count": 45,
   "metadata": {},
   "outputs": [],
   "source": [
    "predictions2 = pd.Series(xgb_pred)\n",
    "predictions2.to_csv('Attempt2(Linear).csv')"
   ]
  },
  {
   "cell_type": "code",
   "execution_count": null,
   "metadata": {},
   "outputs": [],
   "source": []
  }
 ],
 "metadata": {
  "kernelspec": {
   "display_name": "Python 3",
   "language": "python",
   "name": "python3"
  },
  "language_info": {
   "codemirror_mode": {
    "name": "ipython",
    "version": 3
   },
   "file_extension": ".py",
   "mimetype": "text/x-python",
   "name": "python",
   "nbconvert_exporter": "python",
   "pygments_lexer": "ipython3",
   "version": "3.7.7"
  }
 },
 "nbformat": 4,
 "nbformat_minor": 4
}
