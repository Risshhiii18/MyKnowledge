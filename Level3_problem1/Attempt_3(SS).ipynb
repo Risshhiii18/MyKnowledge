{
 "cells": [
  {
   "cell_type": "code",
   "execution_count": 1,
   "metadata": {},
   "outputs": [],
   "source": [
    "import pandas as pd\n",
    "import numpy as np\n",
    "import seaborn as sns\n",
    "from sklearn.preprocessing import LabelEncoder\n"
   ]
  },
  {
   "cell_type": "code",
   "execution_count": 6,
   "metadata": {},
   "outputs": [],
   "source": [
    "df = pd.read_excel('train.xlsx')"
   ]
  },
  {
   "cell_type": "code",
   "execution_count": 7,
   "metadata": {},
   "outputs": [],
   "source": [
    "df['Number_of_Weeks_Used'].fillna(df.Number_of_Weeks_Used.median(), inplace=True)"
   ]
  },
  {
   "cell_type": "code",
   "execution_count": 8,
   "metadata": {},
   "outputs": [],
   "source": [
    "df2 = pd.get_dummies(df, columns=['Crop', 'Soil'])"
   ]
  },
  {
   "cell_type": "code",
   "execution_count": 9,
   "metadata": {},
   "outputs": [
    {
     "data": {
      "text/plain": [
       "0    66716\n",
       "1    11183\n",
       "2    10505\n",
       "Name: Crop_status, dtype: int64"
      ]
     },
     "execution_count": 9,
     "metadata": {},
     "output_type": "execute_result"
    }
   ],
   "source": [
    "ext = df2[df2.Crop_status == 2]\n",
    "df3 = pd.concat([df2,ext,ext,ext,ext])\n",
    "df3.Crop_status.value_counts()"
   ]
  },
  {
   "cell_type": "code",
   "execution_count": 10,
   "metadata": {},
   "outputs": [],
   "source": [
    "ext = df2[df2.Crop_status == 2]\n",
    "df3 = pd.concat([df2,ext,ext,ext,ext])\n",
    "df3.Crop_status.value_counts()#dounsampling step\n",
    "from sklearn.utils import resample\n",
    "\n",
    "# Separating majority and minority classes\n",
    "df_major = df3[df3.Crop_status==1]\n",
    "df_minor= df3[df3.Crop_status==2]\n",
    " \n",
    "# Downsample major class\n",
    "df_majority_downsampled = resample(df_major,replace=False,n_samples=len(df_minor),random_state=42)\n",
    " \n",
    "# Combining minor class with downsampled major class\n",
    "dff = pd.concat([df_majority_downsampled, df_minor])\n",
    " \n",
    "# Display new class counts\n",
    "dff.Crop_status.value_counts(normalize = True)\n",
    "dff.reset_index(inplace = True)\n",
    "dff.drop(['index'], axis = 1, inplace = True)\n",
    "\n",
    "#dounsampling step\n",
    "from sklearn.utils import resample\n",
    "\n",
    "# Separating majority and minority classes\n",
    "df_major = df3[df3.Crop_status==0]\n",
    "df_minor= dff[dff.Crop_status==2]\n",
    " \n",
    "# Downsample major class\n",
    "df_majority_downsampled = resample(df_major,replace=False,n_samples=len(df_minor),random_state=42)\n",
    " \n",
    "# Combining minor class with downsampled major class\n",
    "df4 = pd.concat([df_majority_downsampled,dff])\n",
    " \n",
    "# Display new class counts\n",
    "df4.Crop_status.value_counts(normalize = True)\n",
    "df4.reset_index(inplace = True)\n",
    "df4.drop(['index'], axis = 1, inplace = True)"
   ]
  },
  {
   "cell_type": "code",
   "execution_count": 11,
   "metadata": {},
   "outputs": [
    {
     "data": {
      "text/plain": [
       "2    0.333333\n",
       "1    0.333333\n",
       "0    0.333333\n",
       "Name: Crop_status, dtype: float64"
      ]
     },
     "execution_count": 11,
     "metadata": {},
     "output_type": "execute_result"
    }
   ],
   "source": [
    "df4.Crop_status.value_counts(normalize = True)"
   ]
  },
  {
   "cell_type": "code",
   "execution_count": 12,
   "metadata": {},
   "outputs": [],
   "source": [
    "from sklearn.metrics import confusion_matrix \n",
    "from sklearn.model_selection import train_test_split \n",
    "from sklearn.preprocessing import StandardScaler"
   ]
  },
  {
   "cell_type": "code",
   "execution_count": 13,
   "metadata": {},
   "outputs": [],
   "source": [
    "X= df4.drop(['ID','Crop_status'],axis = 1)\n",
    "y = df4['Crop_status']"
   ]
  },
  {
   "cell_type": "code",
   "execution_count": 15,
   "metadata": {},
   "outputs": [],
   "source": [
    "X_train, X_test, y_train, y_test = train_test_split(X, y, random_state = 0) "
   ]
  },
  {
   "cell_type": "code",
   "execution_count": 16,
   "metadata": {},
   "outputs": [],
   "source": [
    "st= StandardScaler()\n",
    "X_train = st.fit_transform(X_train)\n",
    "X_test  = st.transform(X_test)"
   ]
  },
  {
   "cell_type": "code",
   "execution_count": 17,
   "metadata": {},
   "outputs": [
    {
     "data": {
      "text/plain": [
       "73.85455006980581"
      ]
     },
     "execution_count": 17,
     "metadata": {},
     "output_type": "execute_result"
    }
   ],
   "source": [
    "from sklearn.ensemble import RandomForestClassifier \n",
    "forest = RandomForestClassifier(random_state = 42).fit(X_train, y_train)\n",
    "forest.score(X_test,y_test)*100"
   ]
  },
  {
   "cell_type": "code",
   "execution_count": 18,
   "metadata": {},
   "outputs": [
    {
     "data": {
      "text/plain": [
       "69.53928163472521"
      ]
     },
     "execution_count": 18,
     "metadata": {},
     "output_type": "execute_result"
    }
   ],
   "source": [
    "from sklearn.tree import DecisionTreeClassifier\n",
    "dt = DecisionTreeClassifier(random_state=42).fit(X_train,y_train)\n",
    "dt.score(X_test,y_test)*100"
   ]
  },
  {
   "cell_type": "code",
   "execution_count": 19,
   "metadata": {},
   "outputs": [],
   "source": [
    "from sklearn.ensemble import VotingClassifier"
   ]
  },
  {
   "cell_type": "code",
   "execution_count": 20,
   "metadata": {},
   "outputs": [
    {
     "data": {
      "text/plain": [
       "74.59068409696663"
      ]
     },
     "execution_count": 20,
     "metadata": {},
     "output_type": "execute_result"
    }
   ],
   "source": [
    "vot = VotingClassifier(estimators=[('dt',dt),('Foresst',forest)],voting='hard').fit(X_train, y_train)\n",
    "vot.score(X_test,y_test)*100"
   ]
  },
  {
   "cell_type": "code",
   "execution_count": null,
   "metadata": {},
   "outputs": [],
   "source": []
  },
  {
   "cell_type": "code",
   "execution_count": null,
   "metadata": {},
   "outputs": [],
   "source": []
  }
 ],
 "metadata": {
  "kernelspec": {
   "display_name": "Python 3",
   "language": "python",
   "name": "python3"
  },
  "language_info": {
   "codemirror_mode": {
    "name": "ipython",
    "version": 3
   },
   "file_extension": ".py",
   "mimetype": "text/x-python",
   "name": "python",
   "nbconvert_exporter": "python",
   "pygments_lexer": "ipython3",
   "version": "3.7.7"
  }
 },
 "nbformat": 4,
 "nbformat_minor": 4
}
