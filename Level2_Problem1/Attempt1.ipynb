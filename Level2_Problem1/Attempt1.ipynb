{
 "cells": [
  {
   "cell_type": "code",
   "execution_count": 97,
   "metadata": {},
   "outputs": [],
   "source": [
    "import pandas as pd\n",
    "import numpy as np"
   ]
  },
  {
   "cell_type": "code",
   "execution_count": 98,
   "metadata": {},
   "outputs": [],
   "source": [
    "df = pd.read_csv('training_data.csv')"
   ]
  },
  {
   "cell_type": "code",
   "execution_count": 99,
   "metadata": {
    "scrolled": true
   },
   "outputs": [
    {
     "data": {
      "text/html": [
       "<div>\n",
       "<style scoped>\n",
       "    .dataframe tbody tr th:only-of-type {\n",
       "        vertical-align: middle;\n",
       "    }\n",
       "\n",
       "    .dataframe tbody tr th {\n",
       "        vertical-align: top;\n",
       "    }\n",
       "\n",
       "    .dataframe thead th {\n",
       "        text-align: right;\n",
       "    }\n",
       "</style>\n",
       "<table border=\"1\" class=\"dataframe\">\n",
       "  <thead>\n",
       "    <tr style=\"text-align: right;\">\n",
       "      <th></th>\n",
       "      <th>Row_ID</th>\n",
       "      <th>Application</th>\n",
       "      <th>Device</th>\n",
       "      <th>Launch_Year</th>\n",
       "      <th>Domain</th>\n",
       "      <th>Developer_comapny</th>\n",
       "      <th>Indian_Sales</th>\n",
       "      <th>China_Sales</th>\n",
       "      <th>Korea_Sales</th>\n",
       "      <th>Other_Sales</th>\n",
       "      <th>Global_Sales</th>\n",
       "      <th>ScorebyCritic</th>\n",
       "      <th>No_ofCritics</th>\n",
       "      <th>ScorebyUser</th>\n",
       "      <th>No_ofUsers</th>\n",
       "      <th>Developer</th>\n",
       "      <th>Overall_Rating</th>\n",
       "    </tr>\n",
       "  </thead>\n",
       "  <tbody>\n",
       "    <tr>\n",
       "      <th>0</th>\n",
       "      <td>0</td>\n",
       "      <td>Wii Sports</td>\n",
       "      <td>Wii</td>\n",
       "      <td>2006.0</td>\n",
       "      <td>Sports</td>\n",
       "      <td>Nintendo</td>\n",
       "      <td>41.36</td>\n",
       "      <td>28.96</td>\n",
       "      <td>3.77</td>\n",
       "      <td>8.45</td>\n",
       "      <td>82.53</td>\n",
       "      <td>76.0</td>\n",
       "      <td>51.0</td>\n",
       "      <td>8</td>\n",
       "      <td>322.0</td>\n",
       "      <td>Nintendo</td>\n",
       "      <td>E</td>\n",
       "    </tr>\n",
       "    <tr>\n",
       "      <th>1</th>\n",
       "      <td>1</td>\n",
       "      <td>Super Mario Bros.</td>\n",
       "      <td>NES</td>\n",
       "      <td>1985.0</td>\n",
       "      <td>Platform</td>\n",
       "      <td>Nintendo</td>\n",
       "      <td>29.08</td>\n",
       "      <td>3.58</td>\n",
       "      <td>6.81</td>\n",
       "      <td>0.77</td>\n",
       "      <td>40.24</td>\n",
       "      <td>NaN</td>\n",
       "      <td>NaN</td>\n",
       "      <td>NaN</td>\n",
       "      <td>NaN</td>\n",
       "      <td>NaN</td>\n",
       "      <td>NaN</td>\n",
       "    </tr>\n",
       "    <tr>\n",
       "      <th>2</th>\n",
       "      <td>2</td>\n",
       "      <td>Mario Kart Wii</td>\n",
       "      <td>Wii</td>\n",
       "      <td>2008.0</td>\n",
       "      <td>Racing</td>\n",
       "      <td>Nintendo</td>\n",
       "      <td>15.68</td>\n",
       "      <td>12.76</td>\n",
       "      <td>3.79</td>\n",
       "      <td>3.29</td>\n",
       "      <td>35.52</td>\n",
       "      <td>82.0</td>\n",
       "      <td>73.0</td>\n",
       "      <td>8.3</td>\n",
       "      <td>709.0</td>\n",
       "      <td>Nintendo</td>\n",
       "      <td>E</td>\n",
       "    </tr>\n",
       "    <tr>\n",
       "      <th>3</th>\n",
       "      <td>3</td>\n",
       "      <td>Wii Sports Resort</td>\n",
       "      <td>Wii</td>\n",
       "      <td>2009.0</td>\n",
       "      <td>Sports</td>\n",
       "      <td>Nintendo</td>\n",
       "      <td>15.61</td>\n",
       "      <td>10.93</td>\n",
       "      <td>3.28</td>\n",
       "      <td>2.95</td>\n",
       "      <td>32.77</td>\n",
       "      <td>80.0</td>\n",
       "      <td>73.0</td>\n",
       "      <td>8</td>\n",
       "      <td>192.0</td>\n",
       "      <td>Nintendo</td>\n",
       "      <td>E</td>\n",
       "    </tr>\n",
       "    <tr>\n",
       "      <th>4</th>\n",
       "      <td>4</td>\n",
       "      <td>Pokemon Red/Pokemon Blue</td>\n",
       "      <td>GB</td>\n",
       "      <td>1996.0</td>\n",
       "      <td>Role-Playing</td>\n",
       "      <td>Nintendo</td>\n",
       "      <td>11.27</td>\n",
       "      <td>8.89</td>\n",
       "      <td>10.22</td>\n",
       "      <td>1.00</td>\n",
       "      <td>31.37</td>\n",
       "      <td>NaN</td>\n",
       "      <td>NaN</td>\n",
       "      <td>NaN</td>\n",
       "      <td>NaN</td>\n",
       "      <td>NaN</td>\n",
       "      <td>NaN</td>\n",
       "    </tr>\n",
       "  </tbody>\n",
       "</table>\n",
       "</div>"
      ],
      "text/plain": [
       "   Row_ID               Application Device  Launch_Year        Domain  \\\n",
       "0       0                Wii Sports    Wii       2006.0        Sports   \n",
       "1       1         Super Mario Bros.    NES       1985.0      Platform   \n",
       "2       2            Mario Kart Wii    Wii       2008.0        Racing   \n",
       "3       3         Wii Sports Resort    Wii       2009.0        Sports   \n",
       "4       4  Pokemon Red/Pokemon Blue     GB       1996.0  Role-Playing   \n",
       "\n",
       "  Developer_comapny  Indian_Sales  China_Sales  Korea_Sales  Other_Sales  \\\n",
       "0          Nintendo         41.36        28.96         3.77         8.45   \n",
       "1          Nintendo         29.08         3.58         6.81         0.77   \n",
       "2          Nintendo         15.68        12.76         3.79         3.29   \n",
       "3          Nintendo         15.61        10.93         3.28         2.95   \n",
       "4          Nintendo         11.27         8.89        10.22         1.00   \n",
       "\n",
       "   Global_Sales  ScorebyCritic  No_ofCritics ScorebyUser  No_ofUsers  \\\n",
       "0         82.53           76.0          51.0           8       322.0   \n",
       "1         40.24            NaN           NaN         NaN         NaN   \n",
       "2         35.52           82.0          73.0         8.3       709.0   \n",
       "3         32.77           80.0          73.0           8       192.0   \n",
       "4         31.37            NaN           NaN         NaN         NaN   \n",
       "\n",
       "  Developer Overall_Rating  \n",
       "0  Nintendo              E  \n",
       "1       NaN            NaN  \n",
       "2  Nintendo              E  \n",
       "3  Nintendo              E  \n",
       "4       NaN            NaN  "
      ]
     },
     "execution_count": 99,
     "metadata": {},
     "output_type": "execute_result"
    }
   ],
   "source": [
    "df.head()"
   ]
  },
  {
   "cell_type": "code",
   "execution_count": 100,
   "metadata": {},
   "outputs": [
    {
     "data": {
      "text/plain": [
       "(14748, 17)"
      ]
     },
     "execution_count": 100,
     "metadata": {},
     "output_type": "execute_result"
    }
   ],
   "source": [
    "df.shape"
   ]
  },
  {
   "cell_type": "code",
   "execution_count": 101,
   "metadata": {},
   "outputs": [],
   "source": [
    "dff = pd.read_csv('test_data.csv')"
   ]
  },
  {
   "cell_type": "code",
   "execution_count": 102,
   "metadata": {},
   "outputs": [
    {
     "name": "stdout",
     "output_type": "stream",
     "text": [
      "<class 'pandas.core.frame.DataFrame'>\n",
      "RangeIndex: 14748 entries, 0 to 14747\n",
      "Data columns (total 17 columns):\n",
      " #   Column             Non-Null Count  Dtype  \n",
      "---  ------             --------------  -----  \n",
      " 0   Row_ID             14748 non-null  int64  \n",
      " 1   Application        14746 non-null  object \n",
      " 2   Device             14748 non-null  object \n",
      " 3   Launch_Year        14517 non-null  float64\n",
      " 4   Domain             14746 non-null  object \n",
      " 5   Developer_comapny  14707 non-null  object \n",
      " 6   Indian_Sales       14748 non-null  float64\n",
      " 7   China_Sales        14748 non-null  float64\n",
      " 8   Korea_Sales        14748 non-null  float64\n",
      " 9   Other_Sales        14748 non-null  float64\n",
      " 10  Global_Sales       14748 non-null  float64\n",
      " 11  ScorebyCritic      7526 non-null   float64\n",
      " 12  No_ofCritics       7526 non-null   float64\n",
      " 13  ScorebyUser        9166 non-null   object \n",
      " 14  No_ofUsers         7047 non-null   float64\n",
      " 15  Developer          9226 non-null   object \n",
      " 16  Overall_Rating     9118 non-null   object \n",
      "dtypes: float64(9), int64(1), object(7)\n",
      "memory usage: 1.9+ MB\n"
     ]
    }
   ],
   "source": [
    "df.info()"
   ]
  },
  {
   "cell_type": "code",
   "execution_count": 103,
   "metadata": {},
   "outputs": [
    {
     "data": {
      "text/plain": [
       "Row_ID                0.000000\n",
       "Application           0.013561\n",
       "Device                0.000000\n",
       "Launch_Year           1.566314\n",
       "Domain                0.013561\n",
       "Developer_comapny     0.278004\n",
       "Indian_Sales          0.000000\n",
       "China_Sales           0.000000\n",
       "Korea_Sales           0.000000\n",
       "Other_Sales           0.000000\n",
       "Global_Sales          0.000000\n",
       "ScorebyCritic        48.969352\n",
       "No_ofCritics         48.969352\n",
       "ScorebyUser          37.849200\n",
       "No_ofUsers           52.217250\n",
       "Developer            37.442365\n",
       "Overall_Rating       38.174668\n",
       "dtype: float64"
      ]
     },
     "execution_count": 103,
     "metadata": {},
     "output_type": "execute_result"
    }
   ],
   "source": [
    "df.isna().mean()*100"
   ]
  },
  {
   "cell_type": "code",
   "execution_count": 104,
   "metadata": {},
   "outputs": [],
   "source": [
    "df = df.drop(['ScorebyCritic','No_ofCritics','ScorebyUser','No_ofUsers','Developer','Overall_Rating'], axis = 1)"
   ]
  },
  {
   "cell_type": "code",
   "execution_count": 105,
   "metadata": {},
   "outputs": [
    {
     "name": "stdout",
     "output_type": "stream",
     "text": [
      "<class 'pandas.core.frame.DataFrame'>\n",
      "RangeIndex: 14748 entries, 0 to 14747\n",
      "Data columns (total 11 columns):\n",
      " #   Column             Non-Null Count  Dtype  \n",
      "---  ------             --------------  -----  \n",
      " 0   Row_ID             14748 non-null  int64  \n",
      " 1   Application        14746 non-null  object \n",
      " 2   Device             14748 non-null  object \n",
      " 3   Launch_Year        14517 non-null  float64\n",
      " 4   Domain             14746 non-null  object \n",
      " 5   Developer_comapny  14707 non-null  object \n",
      " 6   Indian_Sales       14748 non-null  float64\n",
      " 7   China_Sales        14748 non-null  float64\n",
      " 8   Korea_Sales        14748 non-null  float64\n",
      " 9   Other_Sales        14748 non-null  float64\n",
      " 10  Global_Sales       14748 non-null  float64\n",
      "dtypes: float64(6), int64(1), object(4)\n",
      "memory usage: 1.2+ MB\n"
     ]
    }
   ],
   "source": [
    "df.info()"
   ]
  },
  {
   "cell_type": "code",
   "execution_count": 106,
   "metadata": {},
   "outputs": [
    {
     "data": {
      "text/plain": [
       "10187"
      ]
     },
     "execution_count": 106,
     "metadata": {},
     "output_type": "execute_result"
    }
   ],
   "source": [
    "df['Application'].nunique()"
   ]
  },
  {
   "cell_type": "code",
   "execution_count": 107,
   "metadata": {},
   "outputs": [
    {
     "data": {
      "text/plain": [
       "12"
      ]
     },
     "execution_count": 107,
     "metadata": {},
     "output_type": "execute_result"
    }
   ],
   "source": [
    "df['Domain'].nunique()"
   ]
  },
  {
   "cell_type": "code",
   "execution_count": 108,
   "metadata": {},
   "outputs": [
    {
     "data": {
      "text/plain": [
       "518"
      ]
     },
     "execution_count": 108,
     "metadata": {},
     "output_type": "execute_result"
    }
   ],
   "source": [
    "df['Developer_comapny'].nunique()"
   ]
  },
  {
   "cell_type": "code",
   "execution_count": 109,
   "metadata": {},
   "outputs": [],
   "source": [
    "df = df.drop(['Row_ID','Application','Launch_Year','Developer_comapny'], axis = 1)"
   ]
  },
  {
   "cell_type": "code",
   "execution_count": 110,
   "metadata": {},
   "outputs": [],
   "source": [
    "df.dropna(inplace = True)"
   ]
  },
  {
   "cell_type": "code",
   "execution_count": 111,
   "metadata": {},
   "outputs": [
    {
     "name": "stdout",
     "output_type": "stream",
     "text": [
      "<class 'pandas.core.frame.DataFrame'>\n",
      "Int64Index: 14746 entries, 0 to 14747\n",
      "Data columns (total 7 columns):\n",
      " #   Column        Non-Null Count  Dtype  \n",
      "---  ------        --------------  -----  \n",
      " 0   Device        14746 non-null  object \n",
      " 1   Domain        14746 non-null  object \n",
      " 2   Indian_Sales  14746 non-null  float64\n",
      " 3   China_Sales   14746 non-null  float64\n",
      " 4   Korea_Sales   14746 non-null  float64\n",
      " 5   Other_Sales   14746 non-null  float64\n",
      " 6   Global_Sales  14746 non-null  float64\n",
      "dtypes: float64(5), object(2)\n",
      "memory usage: 921.6+ KB\n"
     ]
    }
   ],
   "source": [
    "df.info()"
   ]
  },
  {
   "cell_type": "code",
   "execution_count": 112,
   "metadata": {},
   "outputs": [
    {
     "data": {
      "text/html": [
       "<div>\n",
       "<style scoped>\n",
       "    .dataframe tbody tr th:only-of-type {\n",
       "        vertical-align: middle;\n",
       "    }\n",
       "\n",
       "    .dataframe tbody tr th {\n",
       "        vertical-align: top;\n",
       "    }\n",
       "\n",
       "    .dataframe thead th {\n",
       "        text-align: right;\n",
       "    }\n",
       "</style>\n",
       "<table border=\"1\" class=\"dataframe\">\n",
       "  <thead>\n",
       "    <tr style=\"text-align: right;\">\n",
       "      <th></th>\n",
       "      <th>Device</th>\n",
       "      <th>Domain</th>\n",
       "      <th>Indian_Sales</th>\n",
       "      <th>China_Sales</th>\n",
       "      <th>Korea_Sales</th>\n",
       "      <th>Other_Sales</th>\n",
       "      <th>Global_Sales</th>\n",
       "    </tr>\n",
       "  </thead>\n",
       "  <tbody>\n",
       "    <tr>\n",
       "      <th>0</th>\n",
       "      <td>Wii</td>\n",
       "      <td>Sports</td>\n",
       "      <td>41.36</td>\n",
       "      <td>28.96</td>\n",
       "      <td>3.77</td>\n",
       "      <td>8.45</td>\n",
       "      <td>82.53</td>\n",
       "    </tr>\n",
       "    <tr>\n",
       "      <th>1</th>\n",
       "      <td>NES</td>\n",
       "      <td>Platform</td>\n",
       "      <td>29.08</td>\n",
       "      <td>3.58</td>\n",
       "      <td>6.81</td>\n",
       "      <td>0.77</td>\n",
       "      <td>40.24</td>\n",
       "    </tr>\n",
       "    <tr>\n",
       "      <th>2</th>\n",
       "      <td>Wii</td>\n",
       "      <td>Racing</td>\n",
       "      <td>15.68</td>\n",
       "      <td>12.76</td>\n",
       "      <td>3.79</td>\n",
       "      <td>3.29</td>\n",
       "      <td>35.52</td>\n",
       "    </tr>\n",
       "    <tr>\n",
       "      <th>3</th>\n",
       "      <td>Wii</td>\n",
       "      <td>Sports</td>\n",
       "      <td>15.61</td>\n",
       "      <td>10.93</td>\n",
       "      <td>3.28</td>\n",
       "      <td>2.95</td>\n",
       "      <td>32.77</td>\n",
       "    </tr>\n",
       "    <tr>\n",
       "      <th>4</th>\n",
       "      <td>GB</td>\n",
       "      <td>Role-Playing</td>\n",
       "      <td>11.27</td>\n",
       "      <td>8.89</td>\n",
       "      <td>10.22</td>\n",
       "      <td>1.00</td>\n",
       "      <td>31.37</td>\n",
       "    </tr>\n",
       "  </tbody>\n",
       "</table>\n",
       "</div>"
      ],
      "text/plain": [
       "  Device        Domain  Indian_Sales  China_Sales  Korea_Sales  Other_Sales  \\\n",
       "0    Wii        Sports         41.36        28.96         3.77         8.45   \n",
       "1    NES      Platform         29.08         3.58         6.81         0.77   \n",
       "2    Wii        Racing         15.68        12.76         3.79         3.29   \n",
       "3    Wii        Sports         15.61        10.93         3.28         2.95   \n",
       "4     GB  Role-Playing         11.27         8.89        10.22         1.00   \n",
       "\n",
       "   Global_Sales  \n",
       "0         82.53  \n",
       "1         40.24  \n",
       "2         35.52  \n",
       "3         32.77  \n",
       "4         31.37  "
      ]
     },
     "execution_count": 112,
     "metadata": {},
     "output_type": "execute_result"
    }
   ],
   "source": [
    "df.head()"
   ]
  },
  {
   "cell_type": "code",
   "execution_count": 43,
   "metadata": {},
   "outputs": [],
   "source": [
    "from sklearn.preprocessing import LabelEncoder\n",
    "le = LabelEncoder()\n",
    "df['Device'] = le.fit_transform(df['Device'])\n",
    "df['Domain'] = le.fit_transform(df['Domain'])\n"
   ]
  },
  {
   "cell_type": "code",
   "execution_count": 44,
   "metadata": {},
   "outputs": [
    {
     "name": "stdout",
     "output_type": "stream",
     "text": [
      "<class 'pandas.core.frame.DataFrame'>\n",
      "Int64Index: 14746 entries, 0 to 14747\n",
      "Data columns (total 7 columns):\n",
      " #   Column        Non-Null Count  Dtype  \n",
      "---  ------        --------------  -----  \n",
      " 0   Device        14746 non-null  int32  \n",
      " 1   Domain        14746 non-null  int32  \n",
      " 2   Indian_Sales  14746 non-null  float64\n",
      " 3   China_Sales   14746 non-null  float64\n",
      " 4   Korea_Sales   14746 non-null  float64\n",
      " 5   Other_Sales   14746 non-null  float64\n",
      " 6   Global_Sales  14746 non-null  float64\n",
      "dtypes: float64(5), int32(2)\n",
      "memory usage: 806.4 KB\n"
     ]
    }
   ],
   "source": [
    "df.info()"
   ]
  },
  {
   "cell_type": "code",
   "execution_count": 45,
   "metadata": {},
   "outputs": [
    {
     "data": {
      "text/html": [
       "<div>\n",
       "<style scoped>\n",
       "    .dataframe tbody tr th:only-of-type {\n",
       "        vertical-align: middle;\n",
       "    }\n",
       "\n",
       "    .dataframe tbody tr th {\n",
       "        vertical-align: top;\n",
       "    }\n",
       "\n",
       "    .dataframe thead th {\n",
       "        text-align: right;\n",
       "    }\n",
       "</style>\n",
       "<table border=\"1\" class=\"dataframe\">\n",
       "  <thead>\n",
       "    <tr style=\"text-align: right;\">\n",
       "      <th></th>\n",
       "      <th>Device</th>\n",
       "      <th>Domain</th>\n",
       "      <th>Indian_Sales</th>\n",
       "      <th>China_Sales</th>\n",
       "      <th>Korea_Sales</th>\n",
       "      <th>Other_Sales</th>\n",
       "      <th>Global_Sales</th>\n",
       "    </tr>\n",
       "  </thead>\n",
       "  <tbody>\n",
       "    <tr>\n",
       "      <th>count</th>\n",
       "      <td>14746.000000</td>\n",
       "      <td>14746.000000</td>\n",
       "      <td>14746.000000</td>\n",
       "      <td>14746.000000</td>\n",
       "      <td>14746.000000</td>\n",
       "      <td>14746.000000</td>\n",
       "      <td>14746.000000</td>\n",
       "    </tr>\n",
       "    <tr>\n",
       "      <th>mean</th>\n",
       "      <td>15.876984</td>\n",
       "      <td>4.979655</td>\n",
       "      <td>0.273501</td>\n",
       "      <td>0.149348</td>\n",
       "      <td>0.079900</td>\n",
       "      <td>0.048843</td>\n",
       "      <td>0.551786</td>\n",
       "    </tr>\n",
       "    <tr>\n",
       "      <th>std</th>\n",
       "      <td>8.447122</td>\n",
       "      <td>3.755732</td>\n",
       "      <td>0.728212</td>\n",
       "      <td>0.456212</td>\n",
       "      <td>0.286032</td>\n",
       "      <td>0.159245</td>\n",
       "      <td>1.372661</td>\n",
       "    </tr>\n",
       "    <tr>\n",
       "      <th>min</th>\n",
       "      <td>0.000000</td>\n",
       "      <td>0.000000</td>\n",
       "      <td>0.000000</td>\n",
       "      <td>0.000000</td>\n",
       "      <td>0.000000</td>\n",
       "      <td>0.000000</td>\n",
       "      <td>0.020000</td>\n",
       "    </tr>\n",
       "    <tr>\n",
       "      <th>25%</th>\n",
       "      <td>7.000000</td>\n",
       "      <td>1.000000</td>\n",
       "      <td>0.020000</td>\n",
       "      <td>0.000000</td>\n",
       "      <td>0.000000</td>\n",
       "      <td>0.000000</td>\n",
       "      <td>0.080000</td>\n",
       "    </tr>\n",
       "    <tr>\n",
       "      <th>50%</th>\n",
       "      <td>16.000000</td>\n",
       "      <td>5.000000</td>\n",
       "      <td>0.090000</td>\n",
       "      <td>0.030000</td>\n",
       "      <td>0.000000</td>\n",
       "      <td>0.010000</td>\n",
       "      <td>0.200000</td>\n",
       "    </tr>\n",
       "    <tr>\n",
       "      <th>75%</th>\n",
       "      <td>22.000000</td>\n",
       "      <td>8.000000</td>\n",
       "      <td>0.260000</td>\n",
       "      <td>0.120000</td>\n",
       "      <td>0.050000</td>\n",
       "      <td>0.040000</td>\n",
       "      <td>0.510000</td>\n",
       "    </tr>\n",
       "    <tr>\n",
       "      <th>max</th>\n",
       "      <td>30.000000</td>\n",
       "      <td>11.000000</td>\n",
       "      <td>41.360000</td>\n",
       "      <td>28.960000</td>\n",
       "      <td>10.220000</td>\n",
       "      <td>8.450000</td>\n",
       "      <td>82.530000</td>\n",
       "    </tr>\n",
       "  </tbody>\n",
       "</table>\n",
       "</div>"
      ],
      "text/plain": [
       "             Device        Domain  Indian_Sales   China_Sales   Korea_Sales  \\\n",
       "count  14746.000000  14746.000000  14746.000000  14746.000000  14746.000000   \n",
       "mean      15.876984      4.979655      0.273501      0.149348      0.079900   \n",
       "std        8.447122      3.755732      0.728212      0.456212      0.286032   \n",
       "min        0.000000      0.000000      0.000000      0.000000      0.000000   \n",
       "25%        7.000000      1.000000      0.020000      0.000000      0.000000   \n",
       "50%       16.000000      5.000000      0.090000      0.030000      0.000000   \n",
       "75%       22.000000      8.000000      0.260000      0.120000      0.050000   \n",
       "max       30.000000     11.000000     41.360000     28.960000     10.220000   \n",
       "\n",
       "        Other_Sales  Global_Sales  \n",
       "count  14746.000000  14746.000000  \n",
       "mean       0.048843      0.551786  \n",
       "std        0.159245      1.372661  \n",
       "min        0.000000      0.020000  \n",
       "25%        0.000000      0.080000  \n",
       "50%        0.010000      0.200000  \n",
       "75%        0.040000      0.510000  \n",
       "max        8.450000     82.530000  "
      ]
     },
     "execution_count": 45,
     "metadata": {},
     "output_type": "execute_result"
    }
   ],
   "source": [
    "df.describe()"
   ]
  },
  {
   "cell_type": "code",
   "execution_count": 46,
   "metadata": {},
   "outputs": [],
   "source": [
    "X = df.drop(['Global_Sales'], axis = 1)\n",
    "y = df['Global_Sales']"
   ]
  },
  {
   "cell_type": "code",
   "execution_count": 47,
   "metadata": {},
   "outputs": [],
   "source": [
    "from sklearn.model_selection import train_test_split\n",
    "x_train,x_test,y_train,y_test = train_test_split(X,y,test_size = 0.3, random_state = 42)"
   ]
  },
  {
   "cell_type": "code",
   "execution_count": 48,
   "metadata": {},
   "outputs": [],
   "source": [
    "from sklearn.linear_model import LinearRegression\n",
    "from sklearn.linear_model import Lasso, Ridge\n",
    "from sklearn.tree import DecisionTreeRegressor\n",
    "from sklearn.ensemble import RandomForestRegressor,AdaBoostRegressor,VotingRegressor\n",
    "from xgboost import XGBRegressor\n",
    "from sklearn.model_selection import GridSearchCV, RandomizedSearchCV\n",
    "from sklearn import metrics "
   ]
  },
  {
   "cell_type": "code",
   "execution_count": 49,
   "metadata": {},
   "outputs": [],
   "source": [
    "lr = LinearRegression().fit(x_train,y_train)"
   ]
  },
  {
   "cell_type": "code",
   "execution_count": 50,
   "metadata": {},
   "outputs": [
    {
     "data": {
      "text/plain": [
       "0.9999896574421006"
      ]
     },
     "execution_count": 50,
     "metadata": {},
     "output_type": "execute_result"
    }
   ],
   "source": [
    "lr.score(x_test,y_test)"
   ]
  },
  {
   "cell_type": "code",
   "execution_count": 51,
   "metadata": {},
   "outputs": [
    {
     "name": "stdout",
     "output_type": "stream",
     "text": [
      "0.0053793658362508694\n"
     ]
    }
   ],
   "source": [
    "lr_pred = lr.predict(x_test)\n",
    "print(np.sqrt(metrics.mean_squared_error(y_test,lr_pred)))"
   ]
  },
  {
   "cell_type": "code",
   "execution_count": 113,
   "metadata": {},
   "outputs": [],
   "source": [
    "test_x = dff[X.columns]"
   ]
  },
  {
   "cell_type": "code",
   "execution_count": 114,
   "metadata": {},
   "outputs": [
    {
     "name": "stdout",
     "output_type": "stream",
     "text": [
      "<class 'pandas.core.frame.DataFrame'>\n",
      "RangeIndex: 2018 entries, 0 to 2017\n",
      "Data columns (total 6 columns):\n",
      " #   Column        Non-Null Count  Dtype  \n",
      "---  ------        --------------  -----  \n",
      " 0   Device        2018 non-null   object \n",
      " 1   Domain        2018 non-null   object \n",
      " 2   Indian_Sales  2018 non-null   float64\n",
      " 3   China_Sales   2018 non-null   float64\n",
      " 4   Korea_Sales   2018 non-null   float64\n",
      " 5   Other_Sales   2018 non-null   float64\n",
      "dtypes: float64(4), object(2)\n",
      "memory usage: 94.7+ KB\n"
     ]
    }
   ],
   "source": [
    "test_x.info()"
   ]
  },
  {
   "cell_type": "code",
   "execution_count": 115,
   "metadata": {},
   "outputs": [
    {
     "name": "stderr",
     "output_type": "stream",
     "text": [
      "C:\\Users\\chuda\\anaconda3\\envs\\Rushabh\\lib\\site-packages\\pandas\\core\\generic.py:6746: SettingWithCopyWarning: \n",
      "A value is trying to be set on a copy of a slice from a DataFrame\n",
      "\n",
      "See the caveats in the documentation: https://pandas.pydata.org/pandas-docs/stable/user_guide/indexing.html#returning-a-view-versus-a-copy\n",
      "  self._update_inplace(new_data)\n"
     ]
    }
   ],
   "source": [
    "df['Device'].replace('GC','a', inplace  = True)\n",
    "test_x['Device'].replace('GC','a', inplace  = True)\n",
    "\n"
   ]
  },
  {
   "cell_type": "code",
   "execution_count": 116,
   "metadata": {},
   "outputs": [
    {
     "name": "stderr",
     "output_type": "stream",
     "text": [
      "C:\\Users\\chuda\\anaconda3\\envs\\Rushabh\\lib\\site-packages\\ipykernel_launcher.py:4: SettingWithCopyWarning: \n",
      "A value is trying to be set on a copy of a slice from a DataFrame.\n",
      "Try using .loc[row_indexer,col_indexer] = value instead\n",
      "\n",
      "See the caveats in the documentation: https://pandas.pydata.org/pandas-docs/stable/user_guide/indexing.html#returning-a-view-versus-a-copy\n",
      "  after removing the cwd from sys.path.\n"
     ]
    }
   ],
   "source": [
    "from sklearn.preprocessing import LabelEncoder\n",
    "le = LabelEncoder()\n",
    "df['Device'] = le.fit_transform(df['Device'])\n",
    "test_x['Device'] = le.transform(test_x['Device'])\n",
    "\n"
   ]
  },
  {
   "cell_type": "code",
   "execution_count": 117,
   "metadata": {},
   "outputs": [
    {
     "name": "stderr",
     "output_type": "stream",
     "text": [
      "C:\\Users\\chuda\\anaconda3\\envs\\Rushabh\\lib\\site-packages\\ipykernel_launcher.py:2: SettingWithCopyWarning: \n",
      "A value is trying to be set on a copy of a slice from a DataFrame.\n",
      "Try using .loc[row_indexer,col_indexer] = value instead\n",
      "\n",
      "See the caveats in the documentation: https://pandas.pydata.org/pandas-docs/stable/user_guide/indexing.html#returning-a-view-versus-a-copy\n",
      "  \n"
     ]
    }
   ],
   "source": [
    "df['Domain'] = le.fit_transform(df['Domain'])\n",
    "test_x['Domain'] = le.transform(test_x['Domain'])\n"
   ]
  },
  {
   "cell_type": "code",
   "execution_count": 122,
   "metadata": {},
   "outputs": [],
   "source": [
    "lrr = LinearRegression().fit(X,y)\n",
    "lrr_pred = lrr.predict(test_x)"
   ]
  },
  {
   "cell_type": "code",
   "execution_count": 125,
   "metadata": {},
   "outputs": [],
   "source": [
    "pd.Series(lrr_pred).to_csv('Attempt1(Linear_Regression).csv')"
   ]
  },
  {
   "cell_type": "code",
   "execution_count": null,
   "metadata": {},
   "outputs": [],
   "source": []
  }
 ],
 "metadata": {
  "kernelspec": {
   "display_name": "Python 3",
   "language": "python",
   "name": "python3"
  },
  "language_info": {
   "codemirror_mode": {
    "name": "ipython",
    "version": 3
   },
   "file_extension": ".py",
   "mimetype": "text/x-python",
   "name": "python",
   "nbconvert_exporter": "python",
   "pygments_lexer": "ipython3",
   "version": "3.7.7"
  }
 },
 "nbformat": 4,
 "nbformat_minor": 4
}
